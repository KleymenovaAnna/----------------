{
 "cells": [
  {
   "cell_type": "markdown",
   "metadata": {},
   "source": [
    "#Словарь (dict)\n",
    "\n",
    "`Словарь (dict)`- упорядоченная структура данных, которая позволяет хранить пары \"ключ-значения\" с доступом по уникальному ключу."
   ]
  },
  {
   "cell_type": "code",
   "execution_count": 1,
   "metadata": {},
   "outputs": [
    {
     "data": {
      "text/plain": [
       "{5: 'отлично', 4: 'хорошо', 3: 'удовлетворительно', 2: 'неудовлетворительно'}"
      ]
     },
     "execution_count": 1,
     "metadata": {},
     "output_type": "execute_result"
    }
   ],
   "source": [
    "{5: \"отлично\", 4:\"хорошо\", 3: \"удовлетворительно\", 2: \"неудовлетворительно\"}"
   ]
  },
  {
   "cell_type": "code",
   "execution_count": 2,
   "metadata": {},
   "outputs": [
    {
     "data": {
      "text/plain": [
       "{'Имя': 'Викинг',\n",
       " 'Жизнь': 250,\n",
       " 'Невидим': True,\n",
       " 'Инвентарь': ['лопата', 'ведро']}"
      ]
     },
     "execution_count": 2,
     "metadata": {},
     "output_type": "execute_result"
    }
   ],
   "source": [
    "{'Имя':'Викинг', 'Жизнь': 250, 'Невидим': True, 'Инвентарь': ['лопата', 'ведро']}"
   ]
  },
  {
   "cell_type": "code",
   "execution_count": 3,
   "metadata": {},
   "outputs": [
    {
     "name": "stdout",
     "output_type": "stream",
     "text": [
      "{5: 'отлично', 4: 'хорошо', 3: 'удовлетворительно', 2: 'неудовлетворительно'}\n",
      "неудовлетворительно\n"
     ]
    }
   ],
   "source": [
    "v = {5: \"отлично\", 4:\"хорошо\", 3: \"удовлетворительно\", 2: \"неудовлетворительно\"}\n",
    "print (v)\n",
    "print(v[2])"
   ]
  },
  {
   "cell_type": "code",
   "execution_count": 4,
   "metadata": {},
   "outputs": [
    {
     "name": "stdout",
     "output_type": "stream",
     "text": [
      "<class 'dict'>\n"
     ]
    }
   ],
   "source": [
    "v = {}\n",
    "print (type(v))\n",
    "empty_set = set()\n",
    "empty_dict = set()"
   ]
  },
  {
   "cell_type": "code",
   "execution_count": 5,
   "metadata": {},
   "outputs": [
    {
     "data": {
      "text/plain": [
       "{'key1': 'value1', 'key2': 'value2', 'key3': 'value3'}"
      ]
     },
     "execution_count": 5,
     "metadata": {},
     "output_type": "execute_result"
    }
   ],
   "source": [
    "dict (key1='value1', key2='value2', key3='value3')"
   ]
  },
  {
   "cell_type": "code",
   "execution_count": 6,
   "metadata": {},
   "outputs": [
    {
     "data": {
      "text/plain": [
       "{'key1': 'value1', 'key2': 'value2', 'key3': 'value3'}"
      ]
     },
     "execution_count": 6,
     "metadata": {},
     "output_type": "execute_result"
    }
   ],
   "source": [
    "dict ([('key1', 'value1'), ('key2', 'value2'), ('key3', 'value3')])"
   ]
  },
  {
   "cell_type": "code",
   "execution_count": 7,
   "metadata": {},
   "outputs": [
    {
     "data": {
      "text/plain": [
       "{'H': '1', 'e': '2', 'l': '3'}"
      ]
     },
     "execution_count": 7,
     "metadata": {},
     "output_type": "execute_result"
    }
   ],
   "source": [
    "dict(zip(\"Hello\", \"123\"))"
   ]
  }
 ],
 "metadata": {
  "kernelspec": {
   "display_name": "Python 3",
   "language": "python",
   "name": "python3"
  },
  "language_info": {
   "codemirror_mode": {
    "name": "ipython",
    "version": 3
   },
   "file_extension": ".py",
   "mimetype": "text/x-python",
   "name": "python",
   "nbconvert_exporter": "python",
   "pygments_lexer": "ipython3",
   "version": "3.12.1"
  }
 },
 "nbformat": 4,
 "nbformat_minor": 2
}
