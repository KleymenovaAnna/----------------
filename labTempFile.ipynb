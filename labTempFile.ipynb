{
 "cells": [
  {
   "cell_type": "code",
   "execution_count": 1,
   "metadata": {},
   "outputs": [],
   "source": [
    "import tempfile\n",
    "#временные файлы и каталоги"
   ]
  },
  {
   "cell_type": "code",
   "execution_count": 2,
   "metadata": {},
   "outputs": [
    {
     "data": {
      "text/plain": [
       "'C:\\\\Users\\\\olgas\\\\AppData\\\\Local\\\\Temp'"
      ]
     },
     "execution_count": 2,
     "metadata": {},
     "output_type": "execute_result"
    }
   ],
   "source": [
    "tempfile.gettempdir()"
   ]
  },
  {
   "cell_type": "code",
   "execution_count": 3,
   "metadata": {},
   "outputs": [
    {
     "name": "stdout",
     "output_type": "stream",
     "text": [
      "rb+\n",
      "C:\\Users\\olgas\\AppData\\Local\\Temp\\tmp5xwy8bit\n"
     ]
    }
   ],
   "source": [
    "with tempfile.TemporaryFile() as f:\n",
    "    print(f.mode)\n",
    "    print(f.name)"
   ]
  },
  {
   "cell_type": "code",
   "execution_count": 4,
   "metadata": {},
   "outputs": [
    {
     "name": "stdout",
     "output_type": "stream",
     "text": [
      "rt+\n",
      "C:\\Users\\olgas\\AppData\\Local\\Temp\\tmpjbw_8_60\n"
     ]
    }
   ],
   "source": [
    "with tempfile.TemporaryFile(mode='rt+') as f:\n",
    "    print(f.mode)\n",
    "    print(f.name)\n",
    "    f.write('hello')"
   ]
  },
  {
   "cell_type": "code",
   "execution_count": 5,
   "metadata": {},
   "outputs": [
    {
     "name": "stdout",
     "output_type": "stream",
     "text": [
      "<tempfile._TemporaryFileWrapper object at 0x00000273EC8D0770>\n"
     ]
    }
   ],
   "source": [
    "with tempfile.TemporaryFile() as tempPath:\n",
    "    print(tempPath)"
   ]
  }
 ],
 "metadata": {
  "kernelspec": {
   "display_name": "Python 3",
   "language": "python",
   "name": "python3"
  },
  "language_info": {
   "codemirror_mode": {
    "name": "ipython",
    "version": 3
   },
   "file_extension": ".py",
   "mimetype": "text/x-python",
   "name": "python",
   "nbconvert_exporter": "python",
   "pygments_lexer": "ipython3",
   "version": "3.12.1"
  }
 },
 "nbformat": 4,
 "nbformat_minor": 2
}
