{
 "cells": [
  {
   "cell_type": "markdown",
   "metadata": {},
   "source": [
    "работа с текстовыми файлами\n",
    "функция open-открыть на чтение\\запись\n",
    "режим открытия файла:\n",
    "-'r'-открыть только для чтения\n",
    "-'w'-открыть для перезаписи если не найден то создать\n",
    "-'x'-открыть для перезаписи если не найден то ошибка\n",
    "-'a'-открыть для добавления в конец если не найден то создать\n",
    "\n",
    "доп режимы:\n",
    "-'t'-текстовый файл(по умолч)\n",
    "-'b'-бинарный файл\n",
    "-'+'-режим R+W\n",
    "!!!ФАЙЛ НЕОБХОДИМО ЗАКРЫТЬ!!!\n",
    "РАЗЛИЧНЫЕ КОДИРОВКИ ТЕКСТОВЫХ ФАЙЛОВ!"
   ]
  },
  {
   "cell_type": "code",
   "execution_count": 1,
   "metadata": {},
   "outputs": [],
   "source": [
    "import os\n",
    "TEMP_DIR='temp'\n",
    "if not os.path.exists(TEMP_DIR):\n",
    "    os.mkdir(TEMP_DIR)\n"
   ]
  },
  {
   "cell_type": "code",
   "execution_count": 2,
   "metadata": {},
   "outputs": [
    {
     "data": {
      "text/plain": [
       "'temp\\\\temp_TXT.txt'"
      ]
     },
     "execution_count": 2,
     "metadata": {},
     "output_type": "execute_result"
    }
   ],
   "source": [
    "os.path.join(TEMP_DIR, 'temp_TXT.txt')"
   ]
  },
  {
   "cell_type": "code",
   "execution_count": 3,
   "metadata": {},
   "outputs": [],
   "source": [
    "f=open(os.path.join(TEMP_DIR,'temp_TXT.txt'),'w')\n",
    "f.write('Hello\\n')\n",
    "f.write('1234\\n')\n",
    "f.close()"
   ]
  },
  {
   "cell_type": "code",
   "execution_count": 4,
   "metadata": {},
   "outputs": [],
   "source": [
    "with open(os.path.join(TEMP_DIR, 'temp_TXT.txt'),'w') as f:\n",
    "    f.write('hello\\n')\n",
    "    f.write('1234\\n')\n"
   ]
  },
  {
   "cell_type": "code",
   "execution_count": 5,
   "metadata": {},
   "outputs": [],
   "source": [
    "poem='''Однажды, в студеную зимнюю пору,\n",
    "Я из лесу вышел; был сильный мороз.\n",
    "Гляжу, поднимается медленно в гору\n",
    "Лошадка, везущая хворосту воз.'''"
   ]
  },
  {
   "cell_type": "code",
   "execution_count": 6,
   "metadata": {},
   "outputs": [],
   "source": [
    "with open(os.path.join(TEMP_DIR, 'temp_TXT.txt'),'w') as f:\n",
    "    f.write(poem)"
   ]
  },
  {
   "cell_type": "code",
   "execution_count": 7,
   "metadata": {},
   "outputs": [],
   "source": [
    "##чтение из файла"
   ]
  },
  {
   "cell_type": "code",
   "execution_count": 8,
   "metadata": {},
   "outputs": [
    {
     "name": "stdout",
     "output_type": "stream",
     "text": [
      "Однажды, в с\n"
     ]
    }
   ],
   "source": [
    "with open(os.path.join(TEMP_DIR, 'temp_TXT.txt')) as f:\n",
    "    print(f.read(12))"
   ]
  },
  {
   "cell_type": "code",
   "execution_count": 9,
   "metadata": {},
   "outputs": [
    {
     "name": "stdout",
     "output_type": "stream",
     "text": [
      "Однажды, в студеную зимнюю пору,\n",
      "\n"
     ]
    }
   ],
   "source": [
    "with open(os.path.join(TEMP_DIR,'temp_TXT.txt')) as f:\n",
    "    print(f.readline())"
   ]
  },
  {
   "cell_type": "code",
   "execution_count": 10,
   "metadata": {},
   "outputs": [
    {
     "name": "stdout",
     "output_type": "stream",
     "text": [
      "'Однажды, в студеную зимнюю пору,\\n'\n",
      "'Я из лесу вышел; был сильный мороз.\\n'\n",
      "'Гляжу, поднимается медленно в гору\\n'\n",
      "'Лошадка, везущая хворосту воз.'\n"
     ]
    }
   ],
   "source": [
    "with open(os.path.join(TEMP_DIR,'temp_TXT.txt')) as f:\n",
    "    while True:\n",
    "        if (line:=f.readline())!='':\n",
    "            print(repr(line))\n",
    "        else:\n",
    "            break"
   ]
  },
  {
   "cell_type": "code",
   "execution_count": 11,
   "metadata": {},
   "outputs": [
    {
     "name": "stdout",
     "output_type": "stream",
     "text": [
      "'Однажды, в студеную зимнюю пору,\\n'\n",
      "'Я из лесу вышел; был сильный мороз.\\n'\n",
      "'Гляжу, поднимается медленно в гору\\n'\n",
      "'Лошадка, везущая хворосту воз.'\n"
     ]
    }
   ],
   "source": [
    "with open(os.path.join(TEMP_DIR,'temp_TXT.txt')) as f:\n",
    "    while line:=f.readline():\n",
    "         print(repr(line))"
   ]
  }
 ],
 "metadata": {
  "kernelspec": {
   "display_name": "Python 3",
   "language": "python",
   "name": "python3"
  },
  "language_info": {
   "codemirror_mode": {
    "name": "ipython",
    "version": 3
   },
   "file_extension": ".py",
   "mimetype": "text/x-python",
   "name": "python",
   "nbconvert_exporter": "python",
   "pygments_lexer": "ipython3",
   "version": "3.12.1"
  }
 },
 "nbformat": 4,
 "nbformat_minor": 2
}
