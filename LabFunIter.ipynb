{
 "cells": [
  {
   "cell_type": "markdown",
   "metadata": {},
   "source": [
    "функция итератор \n"
   ]
  },
  {
   "cell_type": "code",
   "execution_count": 1,
   "metadata": {},
   "outputs": [
    {
     "name": "stdout",
     "output_type": "stream",
     "text": [
      "['гомель, брест, орша']\n",
      "<class 'list_iterator'>\n",
      "гомель, брест, орша\n"
     ]
    }
   ],
   "source": [
    "cities=\"гомель, брест, орша\".split(' , ')\n",
    "print(cities)\n",
    "it=iter(cities)\n",
    "print(type(it))\n",
    "print(next(it))\n",
    "#print(next[it]) ошибка stopinterstion"
   ]
  },
  {
   "cell_type": "code",
   "execution_count": 2,
   "metadata": {},
   "outputs": [
    {
     "name": "stdout",
     "output_type": "stream",
     "text": [
      "гомель, брест, орша\n"
     ]
    }
   ],
   "source": [
    "for city in iter(cities):\n",
    "    print(city)"
   ]
  },
  {
   "cell_type": "code",
   "execution_count": 3,
   "metadata": {},
   "outputs": [
    {
     "name": "stdout",
     "output_type": "stream",
     "text": [
      "<class 'str_ascii_iterator'>\n",
      "H\n",
      "e l l o\n"
     ]
    }
   ],
   "source": [
    "it = iter(\"Hello\")\n",
    "print(type(it))\n",
    "print(next(it))\n",
    "print(*it)"
   ]
  }
 ],
 "metadata": {
  "kernelspec": {
   "display_name": "Python 3",
   "language": "python",
   "name": "python3"
  },
  "language_info": {
   "codemirror_mode": {
    "name": "ipython",
    "version": 3
   },
   "file_extension": ".py",
   "mimetype": "text/x-python",
   "name": "python",
   "nbconvert_exporter": "python",
   "pygments_lexer": "ipython3",
   "version": "3.12.1"
  }
 },
 "nbformat": 4,
 "nbformat_minor": 2
}
