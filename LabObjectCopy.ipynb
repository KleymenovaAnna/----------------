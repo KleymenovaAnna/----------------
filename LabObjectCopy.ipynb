{
 "cells": [
  {
   "cell_type": "markdown",
   "metadata": {},
   "source": [
    "Поверхностные и глубокие копии объектов (на примере списков)"
   ]
  },
  {
   "cell_type": "code",
   "execution_count": null,
   "metadata": {},
   "outputs": [],
   "source": [
    "import copy"
   ]
  },
  {
   "cell_type": "code",
   "execution_count": 3,
   "metadata": {},
   "outputs": [
    {
     "name": "stdout",
     "output_type": "stream",
     "text": [
      "[1, [2, [3, 4]]]\n",
      "1\n",
      "2\n"
     ]
    }
   ],
   "source": [
    "a = [1, [2,[3, 4]]]\n",
    "print(a)\n",
    "print(a[0])\n",
    "print(a[1][0])\n"
   ]
  },
  {
   "cell_type": "code",
   "execution_count": 4,
   "metadata": {},
   "outputs": [
    {
     "name": "stdout",
     "output_type": "stream",
     "text": [
      "1882323165952\n",
      "1882323165952\n"
     ]
    }
   ],
   "source": [
    "b = a\n",
    "print (id(a))\n",
    "print (id(b))\n"
   ]
  },
  {
   "cell_type": "code",
   "execution_count": 5,
   "metadata": {},
   "outputs": [
    {
     "name": "stdout",
     "output_type": "stream",
     "text": [
      "1882323109504\n",
      "1882323160192\n",
      "[1, [-2, [3, 4]]]\n",
      "[-1, [-2, [3, 4]]]\n"
     ]
    }
   ],
   "source": [
    "a = [1, [2,[3, 4]]]\n",
    "b = a.copy()\n",
    "print (id(a))\n",
    "print (id(b))\n",
    "b[0] = -1\n",
    "b [1][0] = -2\n",
    "print(a)\n",
    "print(b)"
   ]
  },
  {
   "cell_type": "code",
   "execution_count": 7,
   "metadata": {},
   "outputs": [
    {
     "ename": "NameError",
     "evalue": "name 'copy' is not defined",
     "output_type": "error",
     "traceback": [
      "\u001b[1;31m---------------------------------------------------------------------------\u001b[0m",
      "\u001b[1;31mNameError\u001b[0m                                 Traceback (most recent call last)",
      "Cell \u001b[1;32mIn[7], line 2\u001b[0m\n\u001b[0;32m      1\u001b[0m a \u001b[38;5;241m=\u001b[39m [\u001b[38;5;241m1\u001b[39m, [\u001b[38;5;241m2\u001b[39m,[\u001b[38;5;241m3\u001b[39m, \u001b[38;5;241m4\u001b[39m]]]\n\u001b[1;32m----> 2\u001b[0m b \u001b[38;5;241m=\u001b[39m \u001b[43mcopy\u001b[49m\u001b[38;5;241m.\u001b[39mdeepcopy()\n\u001b[0;32m      3\u001b[0m \u001b[38;5;28mprint\u001b[39m (\u001b[38;5;28mid\u001b[39m(a))\n\u001b[0;32m      4\u001b[0m \u001b[38;5;28mprint\u001b[39m (\u001b[38;5;28mid\u001b[39m(b))\n",
      "\u001b[1;31mNameError\u001b[0m: name 'copy' is not defined"
     ]
    }
   ],
   "source": [
    "a = [1, [2,[3, 4]]]\n",
    "b = copy.deepcopy()\n",
    "print (id(a))\n",
    "print (id(b))\n",
    "b[0] = -1\n",
    "b [1][0] = -2\n",
    "print(a)\n",
    "print(b)"
   ]
  }
 ],
 "metadata": {
  "kernelspec": {
   "display_name": "Python 3",
   "language": "python",
   "name": "python3"
  },
  "language_info": {
   "codemirror_mode": {
    "name": "ipython",
    "version": 3
   },
   "file_extension": ".py",
   "mimetype": "text/x-python",
   "name": "python",
   "nbconvert_exporter": "python",
   "pygments_lexer": "ipython3",
   "version": "3.12.1"
  }
 },
 "nbformat": 4,
 "nbformat_minor": 2
}
