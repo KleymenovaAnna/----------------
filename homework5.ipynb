{
 "cells": [
  {
   "cell_type": "markdown",
   "metadata": {},
   "source": [
    "LABGENCOMPREHENSION-HW"
   ]
  },
  {
   "cell_type": "code",
   "execution_count": 3,
   "metadata": {},
   "outputs": [],
   "source": [
    "import string\n",
    "import random\n",
    "\n",
    "# Исходная строка\n",
    "input_str = \"KLEYMENOVA ANNA 231-3211\""
   ]
  },
  {
   "cell_type": "code",
   "execution_count": 5,
   "metadata": {},
   "outputs": [
    {
     "name": "stdout",
     "output_type": "stream",
     "text": [
      "В каждом слове поменять регистр символов на противоположный: ['kleymenova', 'anna', '231-3211']\n"
     ]
    }
   ],
   "source": [
    "words_opposite_case = [word.swapcase() for word in input_str.split()]\n",
    "print(\"В каждом слове поменять регистр символов на противоположный:\", words_opposite_case)"
   ]
  },
  {
   "cell_type": "code",
   "execution_count": 6,
   "metadata": {},
   "outputs": [
    {
     "name": "stdout",
     "output_type": "stream",
     "text": [
      "В каждом слове заменить каждую букву на '_': ['__________', '____', '________']\n"
     ]
    }
   ],
   "source": [
    "words_replace_letters = ['_' * len(word) for word in input_str.split()]\n",
    "print(\"В каждом слове заменить каждую букву на '_':\", words_replace_letters)"
   ]
  },
  {
   "cell_type": "code",
   "execution_count": 8,
   "metadata": {},
   "outputs": [
    {
     "name": "stdout",
     "output_type": "stream",
     "text": [
      "В каждом слове заменить каждую букву на '_', если длина слова меньше 5 символов: ['KLEYMENOVA', '____', '231-3211']\n"
     ]
    }
   ],
   "source": [
    "words_replace_short_words = ['_' * len(word) if len(word) < 5 else word for word in input_str.split()]\n",
    "print(\"В каждом слове заменить каждую букву на '_', если длина слова меньше 5 символов:\", words_replace_short_words)"
   ]
  },
  {
   "cell_type": "code",
   "execution_count": 9,
   "metadata": {},
   "outputs": [
    {
     "name": "stdout",
     "output_type": "stream",
     "text": [
      "В каждом слове поменять буквы местами случайным образом: ['NLEKMAOVEY', 'NNAA', '-2132311']\n"
     ]
    }
   ],
   "source": [
    "words_shuffle_letters = [''.join(random.sample(word, len(word))) for word in input_str.split()]\n",
    "print(\"В каждом слове поменять буквы местами случайным образом:\", words_shuffle_letters)"
   ]
  },
  {
   "cell_type": "code",
   "execution_count": 10,
   "metadata": {},
   "outputs": [
    {
     "name": "stdout",
     "output_type": "stream",
     "text": [
      "Каждую последнюю букву в слове написать с большой буквы: ['KLEYMENOVA', 'ANNA', '231-3211']\n"
     ]
    }
   ],
   "source": [
    "words_capitalize_last = [word[:-1] + word[-1].upper() for word in input_str.split()]\n",
    "print(\"Каждую последнюю букву в слове написать с большой буквы:\", words_capitalize_last)"
   ]
  },
  {
   "cell_type": "code",
   "execution_count": 11,
   "metadata": {},
   "outputs": [
    {
     "name": "stdout",
     "output_type": "stream",
     "text": [
      "Каждое второе слово написать большими буквами, а остальные слова маленькими: ['kleymenova', 'ANNA', '231-3211']\n"
     ]
    }
   ],
   "source": [
    "words_alternate_case = [word.upper() if i % 2 != 0 else word.lower() for i, word in enumerate(input_str.split())]\n",
    "print(\"Каждое второе слово написать большими буквами, а остальные слова маленькими:\", words_alternate_case)"
   ]
  },
  {
   "cell_type": "code",
   "execution_count": 15,
   "metadata": {},
   "outputs": [
    {
     "name": "stdout",
     "output_type": "stream",
     "text": [
      "Сформировать список слов, отсортированных по количеству букв в каждом слове: ['ANNA', '231-3211', 'KLEYMENOVA']\n"
     ]
    }
   ],
   "source": [
    "words_sorted_by_length = sorted(input_str.split(), key=len)\n",
    "print(\"Сформировать список слов, отсортированных по количеству букв в каждом слове:\", words_sorted_by_length)"
   ]
  },
  {
   "cell_type": "code",
   "execution_count": 16,
   "metadata": {},
   "outputs": [
    {
     "name": "stdout",
     "output_type": "stream",
     "text": [
      "Сформировать список уникальных букв: ['Y', 'A', 'M', 'K', '2', '1', '3', '-', 'E', 'N', 'O', 'V', 'L']\n"
     ]
    }
   ],
   "source": [
    "unique_letters = list(set(''.join(input_str.split())))\n",
    "print(\"Сформировать список уникальных букв:\", unique_letters)\n"
   ]
  },
  {
   "cell_type": "code",
   "execution_count": 17,
   "metadata": {},
   "outputs": [
    {
     "name": "stdout",
     "output_type": "stream",
     "text": [
      "Сформировать список уникальных букв и их количество: {'Y': 1, 'A': 3, 'M': 1, 'K': 1, '2': 2, '1': 3, '3': 2, '-': 1, 'E': 2, 'N': 3, 'O': 1, 'V': 1, 'L': 1}\n"
     ]
    }
   ],
   "source": [
    "unique_letters_count = {letter: ''.join(input_str.split()).count(letter) for letter in set(''.join(input_str.split()))}\n",
    "print(\"Сформировать список уникальных букв и их количество:\", unique_letters_count)"
   ]
  },
  {
   "cell_type": "markdown",
   "metadata": {},
   "source": [
    "LABTOPFILEINDIR"
   ]
  },
  {
   "cell_type": "code",
   "execution_count": 19,
   "metadata": {},
   "outputs": [
    {
     "name": "stdout",
     "output_type": "stream",
     "text": [
      "ТОП самых больших файлов:\n",
      "project12.ipynb - 720855 bytes\n",
      "WXYIhnbh5rA.jpg - 535945 bytes\n",
      "koord_russia.csv - 65081 bytes\n",
      "генератор_колекции.ipynb - 14676 bytes\n",
      "labBasic.ipynb - 13049 bytes\n",
      "labPrintShapes.ipynb - 10905 bytes\n",
      "homework3.ipynb - 8635 bytes\n",
      "Homework4.ipynb - 6671 bytes\n",
      "LabList.ipynb - 6222 bytes\n",
      "labFileCSV-cities.ipynb - 6159 bytes\n"
     ]
    },
    {
     "name": "stderr",
     "output_type": "stream",
     "text": [
      "<>:3: SyntaxWarning: invalid escape sequence '\\o'\n",
      "<>:3: SyntaxWarning: invalid escape sequence '\\o'\n",
      "C:\\Users\\olgas\\AppData\\Local\\Temp\\ipykernel_15788\\282278096.py:3: SyntaxWarning: invalid escape sequence '\\o'\n",
      "  folder_path = 'C:\\\\Users\\olgas\\программирование'\n"
     ]
    }
   ],
   "source": [
    "import os\n",
    "\n",
    "folder_path = 'C:\\\\Users\\olgas\\программирование'\n",
    "files = [(f, os.path.getsize(os.path.join(folder_path, f))) for f in os.listdir(folder_path) if os.path.isfile(os.path.join(folder_path, f))]\n",
    "top_files = sorted(files, key=lambda x: x[1], reverse=True)[:10]\n",
    "print(\"ТОП самых больших файлов:\")\n",
    "for file, size in top_files:\n",
    "    print(f\"{file} - {size} bytes\")\n"
   ]
  },
  {
   "cell_type": "code",
   "execution_count": 25,
   "metadata": {},
   "outputs": [
    {
     "name": "stdout",
     "output_type": "stream",
     "text": [
      "ТОП самых длинных имён файлов:\n",
      "labGenComprehension-HW.ipynb - 28 символ(ов)\n",
      "генератор_выражения.ipynb - 25 символ(ов)\n",
      "встроенные_функции.ipynb - 24 символ(ов)\n",
      "генератор_колекции.ipynb - 24 символ(ов)\n",
      "labFileCSV-cities.ipynb - 23 символ(ов)\n",
      "labTOPFilesInDir.ipynb - 22 символ(ов)\n",
      "labGenMapSapper.ipynb - 21 символ(ов)\n",
      "labPrintShapes.ipynb - 20 символ(ов)\n",
      "labFuncLambda.ipynb - 19 символ(ов)\n",
      "LabObjectCopy.ipynb - 19 символ(ов)\n"
     ]
    }
   ],
   "source": [
    "names_lengths = [(f, len(f)) for f in os.listdir(folder_path) if os.path.isfile(os.path.join(folder_path, f))]\n",
    "top_names = sorted(names_lengths, key=lambda x: x[1], reverse=True)[:10]\n",
    "print(\"ТОП самых длинных имён файлов:\")\n",
    "for name, length in top_names:\n",
    "    print(f\"{name} - {length} символ(ов)\")\n"
   ]
  },
  {
   "cell_type": "code",
   "execution_count": 26,
   "metadata": {},
   "outputs": [
    {
     "name": "stdout",
     "output_type": "stream",
     "text": [
      "ТОП каталогов, где больше всего файлов:\n",
      "C:\\Users\\olgas\\программирование - 49 файлов\n",
      "C:\\Users\\olgas\\программирование\\.git\\hooks - 14 файлов\n",
      "C:\\Users\\olgas\\программирование\\.git - 6 файлов\n",
      "C:\\Users\\olgas\\программирование\\Kleymenova_Anna_231-3211 - 5 файлов\n",
      "C:\\Users\\olgas\\программирование\\temp - 5 файлов\n",
      "C:\\Users\\olgas\\программирование\\.git\\objects\\ba - 3 файлов\n",
      "C:\\Users\\olgas\\программирование\\.git\\objects\\5e - 2 файлов\n",
      "C:\\Users\\olgas\\программирование\\.git\\objects\\dd - 2 файлов\n",
      "C:\\Users\\olgas\\программирование\\.git\\objects\\e3 - 2 файлов\n",
      "C:\\Users\\olgas\\программирование\\.git\\objects\\ee - 2 файлов\n"
     ]
    }
   ],
   "source": [
    "folders = {}\n",
    "for root, dirs, files in os.walk(folder_path):\n",
    "    folders[root] = len(files)\n",
    "top_folders_files = sorted(folders.items(), key=lambda x: x[1], reverse=True)[:10]\n",
    "print(\"ТОП каталогов, где больше всего файлов:\")\n",
    "for folder, num_files in top_folders_files:\n",
    "    print(f\"{folder} - {num_files} файлов\")\n"
   ]
  },
  {
   "cell_type": "markdown",
   "metadata": {},
   "source": [
    "labPrintFileTree.ipynb"
   ]
  },
  {
   "cell_type": "code",
   "execution_count": 37,
   "metadata": {},
   "outputs": [
    {
     "name": "stderr",
     "output_type": "stream",
     "text": [
      "<>:36: SyntaxWarning: invalid escape sequence '\\o'\n",
      "<>:36: SyntaxWarning: invalid escape sequence '\\o'\n",
      "C:\\Users\\olgas\\AppData\\Local\\Temp\\ipykernel_15788\\1739042545.py:36: SyntaxWarning: invalid escape sequence '\\o'\n",
      "  print_colored_tree('C:\\\\Users\\olgas\\программирование', file_mask='*.txt', tree_type='all', directory_color='green', file_color='red')\n"
     ]
    },
    {
     "name": "stdout",
     "output_type": "stream",
     "text": [
      "\u001b[32mC:\\Users\\olgas\\программирование\u001b[0m\n",
      "    \u001b[32mC:\\Users\\olgas\\программирование\\.git\u001b[0m\n",
      "        \u001b[32mC:\\Users\\olgas\\программирование\\.git\\hooks\u001b[0m\n",
      "        \u001b[32mC:\\Users\\olgas\\программирование\\.git\\info\u001b[0m\n",
      "        \u001b[32mC:\\Users\\olgas\\программирование\\.git\\logs\u001b[0m\n",
      "            \u001b[32mC:\\Users\\olgas\\программирование\\.git\\logs\\refs\u001b[0m\n",
      "                \u001b[32mC:\\Users\\olgas\\программирование\\.git\\logs\\refs\\heads\u001b[0m\n",
      "                \u001b[32mC:\\Users\\olgas\\программирование\\.git\\logs\\refs\\remotes\u001b[0m\n",
      "                    \u001b[32mC:\\Users\\olgas\\программирование\\.git\\logs\\refs\\remotes\\origin\u001b[0m\n",
      "        \u001b[32mC:\\Users\\olgas\\программирование\\.git\\objects\u001b[0m\n",
      "            \u001b[32mC:\\Users\\olgas\\программирование\\.git\\objects\\03\u001b[0m\n",
      "            \u001b[32mC:\\Users\\olgas\\программирование\\.git\\objects\\0a\u001b[0m\n",
      "            \u001b[32mC:\\Users\\olgas\\программирование\\.git\\objects\\13\u001b[0m\n",
      "            \u001b[32mC:\\Users\\olgas\\программирование\\.git\\objects\\14\u001b[0m\n",
      "            \u001b[32mC:\\Users\\olgas\\программирование\\.git\\objects\\2f\u001b[0m\n",
      "            \u001b[32mC:\\Users\\olgas\\программирование\\.git\\objects\\36\u001b[0m\n",
      "            \u001b[32mC:\\Users\\olgas\\программирование\\.git\\objects\\3d\u001b[0m\n",
      "            \u001b[32mC:\\Users\\olgas\\программирование\\.git\\objects\\45\u001b[0m\n",
      "            \u001b[32mC:\\Users\\olgas\\программирование\\.git\\objects\\4c\u001b[0m\n",
      "            \u001b[32mC:\\Users\\olgas\\программирование\\.git\\objects\\4d\u001b[0m\n",
      "            \u001b[32mC:\\Users\\olgas\\программирование\\.git\\objects\\50\u001b[0m\n",
      "            \u001b[32mC:\\Users\\olgas\\программирование\\.git\\objects\\51\u001b[0m\n",
      "            \u001b[32mC:\\Users\\olgas\\программирование\\.git\\objects\\52\u001b[0m\n",
      "            \u001b[32mC:\\Users\\olgas\\программирование\\.git\\objects\\55\u001b[0m\n",
      "            \u001b[32mC:\\Users\\olgas\\программирование\\.git\\objects\\5b\u001b[0m\n",
      "            \u001b[32mC:\\Users\\olgas\\программирование\\.git\\objects\\5e\u001b[0m\n",
      "            \u001b[32mC:\\Users\\olgas\\программирование\\.git\\objects\\60\u001b[0m\n",
      "            \u001b[32mC:\\Users\\olgas\\программирование\\.git\\objects\\62\u001b[0m\n",
      "            \u001b[32mC:\\Users\\olgas\\программирование\\.git\\objects\\6f\u001b[0m\n",
      "            \u001b[32mC:\\Users\\olgas\\программирование\\.git\\objects\\76\u001b[0m\n",
      "            \u001b[32mC:\\Users\\olgas\\программирование\\.git\\objects\\7a\u001b[0m\n",
      "            \u001b[32mC:\\Users\\olgas\\программирование\\.git\\objects\\7d\u001b[0m\n",
      "            \u001b[32mC:\\Users\\olgas\\программирование\\.git\\objects\\90\u001b[0m\n",
      "            \u001b[32mC:\\Users\\olgas\\программирование\\.git\\objects\\92\u001b[0m\n",
      "            \u001b[32mC:\\Users\\olgas\\программирование\\.git\\objects\\96\u001b[0m\n",
      "            \u001b[32mC:\\Users\\olgas\\программирование\\.git\\objects\\a3\u001b[0m\n",
      "            \u001b[32mC:\\Users\\olgas\\программирование\\.git\\objects\\a5\u001b[0m\n",
      "            \u001b[32mC:\\Users\\olgas\\программирование\\.git\\objects\\a8\u001b[0m\n",
      "            \u001b[32mC:\\Users\\olgas\\программирование\\.git\\objects\\a9\u001b[0m\n",
      "            \u001b[32mC:\\Users\\olgas\\программирование\\.git\\objects\\b5\u001b[0m\n",
      "            \u001b[32mC:\\Users\\olgas\\программирование\\.git\\objects\\b8\u001b[0m\n",
      "            \u001b[32mC:\\Users\\olgas\\программирование\\.git\\objects\\ba\u001b[0m\n",
      "            \u001b[32mC:\\Users\\olgas\\программирование\\.git\\objects\\bd\u001b[0m\n",
      "            \u001b[32mC:\\Users\\olgas\\программирование\\.git\\objects\\c3\u001b[0m\n",
      "            \u001b[32mC:\\Users\\olgas\\программирование\\.git\\objects\\cb\u001b[0m\n",
      "            \u001b[32mC:\\Users\\olgas\\программирование\\.git\\objects\\cc\u001b[0m\n",
      "            \u001b[32mC:\\Users\\olgas\\программирование\\.git\\objects\\d0\u001b[0m\n",
      "            \u001b[32mC:\\Users\\olgas\\программирование\\.git\\objects\\d7\u001b[0m\n",
      "            \u001b[32mC:\\Users\\olgas\\программирование\\.git\\objects\\db\u001b[0m\n",
      "            \u001b[32mC:\\Users\\olgas\\программирование\\.git\\objects\\dd\u001b[0m\n",
      "            \u001b[32mC:\\Users\\olgas\\программирование\\.git\\objects\\de\u001b[0m\n",
      "            \u001b[32mC:\\Users\\olgas\\программирование\\.git\\objects\\e3\u001b[0m\n",
      "            \u001b[32mC:\\Users\\olgas\\программирование\\.git\\objects\\e6\u001b[0m\n",
      "            \u001b[32mC:\\Users\\olgas\\программирование\\.git\\objects\\e7\u001b[0m\n",
      "            \u001b[32mC:\\Users\\olgas\\программирование\\.git\\objects\\ea\u001b[0m\n",
      "            \u001b[32mC:\\Users\\olgas\\программирование\\.git\\objects\\eb\u001b[0m\n",
      "            \u001b[32mC:\\Users\\olgas\\программирование\\.git\\objects\\ee\u001b[0m\n",
      "            \u001b[32mC:\\Users\\olgas\\программирование\\.git\\objects\\ef\u001b[0m\n",
      "            \u001b[32mC:\\Users\\olgas\\программирование\\.git\\objects\\f2\u001b[0m\n",
      "            \u001b[32mC:\\Users\\olgas\\программирование\\.git\\objects\\fa\u001b[0m\n",
      "            \u001b[32mC:\\Users\\olgas\\программирование\\.git\\objects\\fc\u001b[0m\n",
      "            \u001b[32mC:\\Users\\olgas\\программирование\\.git\\objects\\info\u001b[0m\n",
      "            \u001b[32mC:\\Users\\olgas\\программирование\\.git\\objects\\pack\u001b[0m\n",
      "        \u001b[32mC:\\Users\\olgas\\программирование\\.git\\refs\u001b[0m\n",
      "            \u001b[32mC:\\Users\\olgas\\программирование\\.git\\refs\\heads\u001b[0m\n",
      "            \u001b[32mC:\\Users\\olgas\\программирование\\.git\\refs\\remotes\u001b[0m\n",
      "                \u001b[32mC:\\Users\\olgas\\программирование\\.git\\refs\\remotes\\origin\u001b[0m\n",
      "            \u001b[32mC:\\Users\\olgas\\программирование\\.git\\refs\\tags\u001b[0m\n",
      "    \u001b[32mC:\\Users\\olgas\\программирование\\Kleymenova_Anna_231-3211\u001b[0m\n",
      "        \u001b[32mC:\\Users\\olgas\\программирование\\Kleymenova_Anna_231-3211\\Новая папка\u001b[0m\n",
      "    \u001b[32mC:\\Users\\olgas\\программирование\\temp\u001b[0m\n"
     ]
    }
   ],
   "source": [
    "from os import listdir\n",
    "from os.path import join, isfile, isdir\n",
    "from termcolor import colored\n",
    "\n",
    "def print_colored_tree(directory_path, file_mask='*.*', tree_type='all', directory_color='cyan', file_color='magenta'):\n",
    "    \"\"\"\n",
    "    Рекурсивно выводит дерево каталогов и файлов с цветовой разметкой.\n",
    "    \n",
    "    :param directory_path: путь к каталогу\n",
    "    :param file_mask: маска файлов (по умолчанию, *.*)\n",
    "    :param tree_type: тип дерева ('directories' - только каталоги, 'all' - каталоги и файлы)\n",
    "    :param directory_color: цвет для отображения каталогов\n",
    "    :param file_color: цвет для отображения файлов\n",
    "    \"\"\"\n",
    "    \n",
    "    if not isdir(directory_path):\n",
    "        print(\"Ошибка: Указанный путь не является каталогом.\")\n",
    "        return\n",
    "    \n",
    "    def print_tree(folder_path, indent=''):\n",
    "        print(indent + colored(folder_path, directory_color))\n",
    "        indent += '    '\n",
    "        for item in listdir(folder_path):\n",
    "            item_path = join(folder_path, item)\n",
    "            if isdir(item_path):\n",
    "                print_tree(item_path, indent)\n",
    "            elif isfile(item_path):\n",
    "                if tree_type == 'directories':\n",
    "                    continue\n",
    "                if file_mask == '*.*' or item.endswith(file_mask):\n",
    "                    print(indent + colored(item, file_color))\n",
    "    \n",
    "    print_tree(directory_path)\n",
    "\n",
    "# Пример использования\n",
    "print_colored_tree('C:\\\\Users\\olgas\\программирование', file_mask='*.txt', tree_type='all', directory_color='green', file_color='red')\n"
   ]
  }
 ],
 "metadata": {
  "language_info": {
   "name": "python"
  }
 },
 "nbformat": 4,
 "nbformat_minor": 2
}
