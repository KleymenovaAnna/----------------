{
 "cells": [
  {
   "cell_type": "markdown",
   "metadata": {},
   "source": [
    "#типы данных\n",
    "типы данных:\n",
    "-неизменяемые(int, float,str, tuple,...)\n",
    "-изменяемые[list,set,dict..]"
   ]
  },
  {
   "cell_type": "code",
   "execution_count": 2,
   "metadata": {},
   "outputs": [
    {
     "name": "stdout",
     "output_type": "stream",
     "text": [
      "140732505668312\n",
      "140732505668792\n"
     ]
    }
   ],
   "source": [
    "a =10\n",
    "b=25\n",
    "print(id (a))\n",
    "print(id(b))"
   ]
  },
  {
   "cell_type": "code",
   "execution_count": 3,
   "metadata": {},
   "outputs": [
    {
     "name": "stdout",
     "output_type": "stream",
     "text": [
      "1693646756800\n",
      "1693646756800\n",
      "1693646756800\n"
     ]
    }
   ],
   "source": [
    "a='hello'\n",
    "b=a\n",
    "c=a[:]\n",
    "print(id (a))\n",
    "print(id (b))\n",
    "print(id (c))"
   ]
  },
  {
   "cell_type": "code",
   "execution_count": 4,
   "metadata": {},
   "outputs": [
    {
     "name": "stdout",
     "output_type": "stream",
     "text": [
      "1693667414592\n",
      "1693667414592\n",
      "1693667514688\n"
     ]
    }
   ],
   "source": [
    "a=[1,2,3]\n",
    "b=a\n",
    "c=a[:]\n",
    "print(id (a))\n",
    "print(id (b))\n",
    "print(id (c))"
   ]
  },
  {
   "cell_type": "code",
   "execution_count": 5,
   "metadata": {},
   "outputs": [
    {
     "name": "stdout",
     "output_type": "stream",
     "text": [
      "1693667411712\n",
      "1693667411712\n",
      "1693667411776\n",
      "[1, 2, 3, 99, 88]\n",
      "[1, 2, 3, 99, 88]\n",
      "[1, 2, 3, 77]\n"
     ]
    }
   ],
   "source": [
    "a=[1,2,3]\n",
    "b=a\n",
    "c=a[:]\n",
    "print(id (a))\n",
    "print(id (b))\n",
    "print(id (c))\n",
    "a.append(99)\n",
    "b.append(88)\n",
    "c.append(77)\n",
    "print (a)\n",
    "print(b)\n",
    "print(c)"
   ]
  },
  {
   "cell_type": "code",
   "execution_count": 7,
   "metadata": {},
   "outputs": [
    {
     "name": "stdout",
     "output_type": "stream",
     "text": [
      "140732505668024\n",
      "140732505668056\n",
      "140732504873776\n"
     ]
    }
   ],
   "source": [
    "print(id(1))\n",
    "print(id(2))\n",
    "print(id(True))"
   ]
  }
 ],
 "metadata": {
  "kernelspec": {
   "display_name": "Python 3",
   "language": "python",
   "name": "python3"
  },
  "language_info": {
   "codemirror_mode": {
    "name": "ipython",
    "version": 3
   },
   "file_extension": ".py",
   "mimetype": "text/x-python",
   "name": "python",
   "nbconvert_exporter": "python",
   "pygments_lexer": "ipython3",
   "version": "3.12.1"
  }
 },
 "nbformat": 4,
 "nbformat_minor": 2
}
