{
 "cells": [
  {
   "cell_type": "markdown",
   "metadata": {},
   "source": [
    "Основы Python "
   ]
  },
  {
   "cell_type": "code",
   "execution_count": 1,
   "metadata": {},
   "outputs": [
    {
     "name": "stdout",
     "output_type": "stream",
     "text": [
      "5\n",
      "15\n",
      "hello\n"
     ]
    }
   ],
   "source": [
    "print(5)\n",
    "print(5*3)\n",
    "print(\"hello\")\n"
   ]
  },
  {
   "cell_type": "code",
   "execution_count": 2,
   "metadata": {},
   "outputs": [
    {
     "name": "stdout",
     "output_type": "stream",
     "text": [
      "1 2 3 4\n",
      "1234\n",
      "1---2---3---4\n",
      "1\t2\t3\t4\n",
      "1\n",
      "2\n",
      "3\n",
      "4\n"
     ]
    }
   ],
   "source": [
    "print (1, 2, 3,4)\n",
    "print (1, 2, 3,4, sep='')\n",
    "print (1, 2, 3,4, sep='---')\n",
    "print (1, 2, 3,4, sep='\\t')\n",
    "print (1, 2, 3,4, sep='\\n')"
   ]
  },
  {
   "cell_type": "code",
   "execution_count": 3,
   "metadata": {},
   "outputs": [
    {
     "name": "stdout",
     "output_type": "stream",
     "text": [
      "Hello\n",
      "H e l l o\n",
      "H e l l o\n",
      "H-e-l-l-o.aaa\n"
     ]
    }
   ],
   "source": [
    "print (\"Hello\")\n",
    "print (*\"Hello\")\n",
    "print (\"H\", \"e\", \"l\", \"l\", \"o\")\n",
    "print (*\"Hello\", sep='-', end='.')\n",
    "print (\"aaa\")"
   ]
  },
  {
   "cell_type": "code",
   "execution_count": 4,
   "metadata": {},
   "outputs": [
    {
     "name": "stdout",
     "output_type": "stream",
     "text": [
      "range(0, 5)\n",
      "0 1 2 3 4\n",
      "0 1 2 3 4\n"
     ]
    }
   ],
   "source": [
    "print (range(5))\n",
    "print (*range(5))\n",
    "print (0, 1, 2, 3, 4)"
   ]
  },
  {
   "cell_type": "code",
   "execution_count": 5,
   "metadata": {},
   "outputs": [
    {
     "name": "stdout",
     "output_type": "stream",
     "text": [
      "1 2 3 4\n",
      "0 2 4 6 8\n",
      "0 10 20 30 40 50 60 70 80 90\n",
      "20 19 18 17 16 15 14 13 12 11\n"
     ]
    }
   ],
   "source": [
    "print (*range(1, 5))\n",
    "print (*range(0, 10, 2))\n",
    "print (*range(0, 100, 10))\n",
    "print (*range(20, 10, -1))"
   ]
  },
  {
   "cell_type": "code",
   "execution_count": 6,
   "metadata": {},
   "outputs": [
    {
     "name": "stdout",
     "output_type": "stream",
     "text": [
      "4.5\n",
      "4\n",
      "1\n",
      "16\n",
      "256\n"
     ]
    }
   ],
   "source": [
    "print (9 / 2)\n",
    "print (9 // 2)\n",
    "print (9 % 2)\n",
    "print (2 * 8)\n",
    "print (2 ** 8)"
   ]
  },
  {
   "cell_type": "code",
   "execution_count": 7,
   "metadata": {},
   "outputs": [
    {
     "name": "stdout",
     "output_type": "stream",
     "text": [
      "True\n",
      "True\n"
     ]
    }
   ],
   "source": [
    "print (10 >= 5)\n",
    "print (10 != 5)"
   ]
  },
  {
   "cell_type": "code",
   "execution_count": 8,
   "metadata": {},
   "outputs": [
    {
     "name": "stdout",
     "output_type": "stream",
     "text": [
      "False\n",
      "True\n",
      "True\n",
      "True\n"
     ]
    }
   ],
   "source": [
    "x = 1\n",
    "y = 2\n",
    "print (x > y and x < y)\n",
    "print (x > y or x < y)\n",
    "print (x != y)\n",
    "print (not x == y)"
   ]
  },
  {
   "cell_type": "code",
   "execution_count": 9,
   "metadata": {},
   "outputs": [
    {
     "name": "stdout",
     "output_type": "stream",
     "text": [
      "Visual Studio CodeVisual Studio CodeVisual Studio Code\n",
      "18\n"
     ]
    }
   ],
   "source": [
    "s = \"Visual Studio Code\"\n",
    "print (s * 3)\n",
    "print (len(s)) #длина"
   ]
  },
  {
   "cell_type": "code",
   "execution_count": 10,
   "metadata": {},
   "outputs": [
    {
     "name": "stdout",
     "output_type": "stream",
     "text": [
      "VISUAL STUDIO CODE\n",
      "visual studio code\n",
      "Visual Studio Code\n",
      "vISUAL sTUDIO cODE\n",
      "Visual studio code\n",
      "______Visual Studio Code______\n",
      "Visual Studio Code____________\n",
      "____________Visual Studio Code\n"
     ]
    }
   ],
   "source": [
    "print (s.upper()) # верхний регистр \n",
    "print (s.lower()) # нижний регистр\n",
    "print (s.lower().title())\n",
    "print (s.swapcase()) #регистр на противоположный \n",
    "print (s.capitalize()) #первая буква большая\n",
    "print (s.center(30, '_'))\n",
    "print (s.ljust(30, '_'))\n",
    "print (s.rjust(30, '_'))\n"
   ]
  },
  {
   "cell_type": "code",
   "execution_count": 11,
   "metadata": {},
   "outputs": [
    {
     "name": "stdout",
     "output_type": "stream",
     "text": [
      "2\n",
      "6\n",
      "6\n",
      "13\n",
      "True\n",
      "True\n"
     ]
    }
   ],
   "source": [
    "print (s.count (' '))\n",
    "print (s.index (' ')) # если нет, то щшибка\n",
    "print (s.find (' ')) # если нет, то -1\n",
    "print (s.rfind (' '))# если нет, то -1\n",
    "print (s.startswith('Vi'))\n",
    "print (s.endswith('Code'))"
   ]
  },
  {
   "cell_type": "code",
   "execution_count": 12,
   "metadata": {},
   "outputs": [
    {
     "name": "stdout",
     "output_type": "stream",
     "text": [
      "True\n",
      "False\n",
      "True\n",
      "True\n"
     ]
    }
   ],
   "source": [
    "print (\"Qwerty123\".isalnum()) #состоит из букв и чисел?\n",
    "print (\"Qwerty123$\".isalnum())\n",
    "print (\"Qwerty\".isalpha()) # Только буква\n",
    "print (\"1234\".isnumeric())# Только цифры"
   ]
  },
  {
   "cell_type": "code",
   "execution_count": 13,
   "metadata": {},
   "outputs": [
    {
     "name": "stdout",
     "output_type": "stream",
     "text": [
      "['Visual', 'Studio', 'Code']\n",
      "['Visual Studio Code']\n",
      "Visual___Studio___Code\n"
     ]
    }
   ],
   "source": [
    "print (s.split())\n",
    "print (s.splitlines())\n",
    "print (s.replace(' ', '___'))"
   ]
  },
  {
   "cell_type": "code",
   "execution_count": 14,
   "metadata": {},
   "outputs": [
    {
     "name": "stdout",
     "output_type": "stream",
     "text": [
      "True\n",
      "False\n"
     ]
    }
   ],
   "source": [
    "print (\"Studio\" in s)\n",
    "print (\"Studio\" not in s)"
   ]
  },
  {
   "cell_type": "code",
   "execution_count": 15,
   "metadata": {},
   "outputs": [
    {
     "name": "stdout",
     "output_type": "stream",
     "text": [
      "V\n",
      "i\n",
      "e\n",
      "d\n"
     ]
    }
   ],
   "source": [
    "print (s [0])\n",
    "print (s [1])\n",
    "print (s [-1])\n",
    "print (s [-2])"
   ]
  },
  {
   "cell_type": "code",
   "execution_count": 16,
   "metadata": {},
   "outputs": [
    {
     "name": "stdout",
     "output_type": "stream",
     "text": [
      "Visual Studio Code\n",
      "sual Studio Code\n",
      "sua\n",
      "Visual Studio Co\n",
      "de\n"
     ]
    }
   ],
   "source": [
    "print (s[:]) #шаг\n",
    "print (s[2:])\n",
    "print (s[2:5])\n",
    "print (s[:-2])\n",
    "print (s[-2:])"
   ]
  },
  {
   "cell_type": "code",
   "execution_count": 17,
   "metadata": {},
   "outputs": [
    {
     "name": "stdout",
     "output_type": "stream",
     "text": [
      "Visual Studio Code\n",
      "Visual Studio Code\n",
      "Vsa tdoCd\n",
      "edoC oidutS lausiV\n"
     ]
    }
   ],
   "source": [
    "print (s[::]) #срез с шагом\n",
    "print (s[::1])\n",
    "print (s[::2])\n",
    "print (s[::-1])"
   ]
  },
  {
   "cell_type": "code",
   "execution_count": 18,
   "metadata": {},
   "outputs": [
    {
     "name": "stdout",
     "output_type": "stream",
     "text": [
      "Python\n",
      "Python       \n",
      "      Python\n"
     ]
    }
   ],
   "source": [
    "s = \"      Python       \"\n",
    "print(s.strip())\n",
    "print(s.lstrip())\n",
    "print(s.rstrip())"
   ]
  },
  {
   "cell_type": "code",
   "execution_count": 19,
   "metadata": {},
   "outputs": [
    {
     "name": "stdout",
     "output_type": "stream",
     "text": [
      "bbbb\n"
     ]
    }
   ],
   "source": [
    "x = 1\n",
    "y = 2\n",
    "\n",
    "if x > y:\n",
    "    print(\"aaaa\")\n",
    "else:\n",
    "    print (\"bbbb\")"
   ]
  },
  {
   "cell_type": "code",
   "execution_count": 20,
   "metadata": {},
   "outputs": [
    {
     "name": "stdout",
     "output_type": "stream",
     "text": [
      "1\n"
     ]
    }
   ],
   "source": [
    "if x > 0 and y > 1:\n",
    "    print (1)\n",
    "else:\n",
    "    if x < 0 and y < 0:\n",
    "        print (2)"
   ]
  },
  {
   "cell_type": "code",
   "execution_count": 21,
   "metadata": {},
   "outputs": [
    {
     "name": "stdout",
     "output_type": "stream",
     "text": [
      "1\n"
     ]
    }
   ],
   "source": [
    "if x > 0 and y > 1:\n",
    "    print (1)\n",
    "elif x < 0 and y < 0:\n",
    "        print (2)"
   ]
  },
  {
   "cell_type": "code",
   "execution_count": 22,
   "metadata": {},
   "outputs": [
    {
     "name": "stdout",
     "output_type": "stream",
     "text": [
      "Yes\n"
     ]
    }
   ],
   "source": [
    "x = 1\n",
    "print (\"Yes\" if x == 1 else \"No\")"
   ]
  },
  {
   "cell_type": "code",
   "execution_count": 23,
   "metadata": {},
   "outputs": [
    {
     "name": "stdout",
     "output_type": "stream",
     "text": [
      "22\n"
     ]
    }
   ],
   "source": [
    "x = 2\n",
    "match x:\n",
    "    case 1: print (11)\n",
    "    case 2: print (22)\n",
    "    case 3: print (33)\n",
    "    case _: print (\"Другое\") #если не попали ни в какой вариант"
   ]
  },
  {
   "cell_type": "code",
   "execution_count": 24,
   "metadata": {},
   "outputs": [
    {
     "name": "stdout",
     "output_type": "stream",
     "text": [
      "44\n"
     ]
    }
   ],
   "source": [
    "x = -3\n",
    "y = -2\n",
    "match x, y:\n",
    "    case 1, 1: print (11)\n",
    "    case 2, 2: print (22)\n",
    "    case 3, _: print (33)\n",
    "    case _, _: print (44)"
   ]
  },
  {
   "cell_type": "code",
   "execution_count": 25,
   "metadata": {},
   "outputs": [
    {
     "name": "stdout",
     "output_type": "stream",
     "text": [
      "hello\n",
      "3.14\n",
      "25\n"
     ]
    }
   ],
   "source": [
    "for i in [\"hello\", 3.14, 25]:\n",
    "    print (i)"
   ]
  },
  {
   "cell_type": "code",
   "execution_count": 26,
   "metadata": {},
   "outputs": [
    {
     "name": "stdout",
     "output_type": "stream",
     "text": [
      "0\n",
      "1\n",
      "2\n"
     ]
    }
   ],
   "source": [
    "for i in range(3):\n",
    "    print (i)"
   ]
  },
  {
   "cell_type": "code",
   "execution_count": 27,
   "metadata": {},
   "outputs": [
    {
     "name": "stdout",
     "output_type": "stream",
     "text": [
      "hhhhh, eeeee, lllll, lllll, ooooo, "
     ]
    }
   ],
   "source": [
    "for i in \"hello\":\n",
    "    print (i *5, end= ', ')"
   ]
  },
  {
   "cell_type": "code",
   "execution_count": 28,
   "metadata": {},
   "outputs": [
    {
     "name": "stdout",
     "output_type": "stream",
     "text": [
      "0\n",
      "2\n",
      "3\n",
      ".\n"
     ]
    }
   ],
   "source": [
    "for i in range(5):\n",
    "    if i == 1:\n",
    "        continue\n",
    "    if i == 4:\n",
    "        break\n",
    "    print (i)\n",
    "print ('.')"
   ]
  },
  {
   "cell_type": "code",
   "execution_count": 29,
   "metadata": {},
   "outputs": [
    {
     "name": "stdout",
     "output_type": "stream",
     "text": [
      "0 1 2 3 4 end\n",
      ".\n"
     ]
    }
   ],
   "source": [
    "for i in range (5):\n",
    "    print(i, end=' ')\n",
    "else:\n",
    "    print ('end')\n",
    "print ('.')"
   ]
  },
  {
   "cell_type": "code",
   "execution_count": 30,
   "metadata": {},
   "outputs": [
    {
     "name": "stdout",
     "output_type": "stream",
     "text": [
      "0 1 2 3 .\n"
     ]
    }
   ],
   "source": [
    "for i in range (5):\n",
    "    if i == 4:\n",
    "        break\n",
    "    print(i, end=' ')\n",
    "else:\n",
    "    print ('end')\n",
    "print ('.')"
   ]
  },
  {
   "cell_type": "code",
   "execution_count": 31,
   "metadata": {},
   "outputs": [
    {
     "name": "stdout",
     "output_type": "stream",
     "text": [
      "0 1 2 3 4 end\n"
     ]
    }
   ],
   "source": [
    "i = 0\n",
    "while i < 5:\n",
    "    print (i, end= ' ')\n",
    "    i += 1\n",
    "else:\n",
    "    print ('end')"
   ]
  }
 ],
 "metadata": {
  "kernelspec": {
   "display_name": "Python 3",
   "language": "python",
   "name": "python3"
  },
  "language_info": {
   "codemirror_mode": {
    "name": "ipython",
    "version": 3
   },
   "file_extension": ".py",
   "mimetype": "text/x-python",
   "name": "python",
   "nbconvert_exporter": "python",
   "pygments_lexer": "ipython3",
   "version": "3.12.1"
  }
 },
 "nbformat": 4,
 "nbformat_minor": 2
}
