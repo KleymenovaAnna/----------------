{
 "cells": [
  {
   "cell_type": "code",
   "execution_count": 1,
   "metadata": {},
   "outputs": [],
   "source": [
    "import random\n"
   ]
  },
  {
   "cell_type": "code",
   "execution_count": 2,
   "metadata": {},
   "outputs": [],
   "source": [
    "def deck_generator(deck, num_cards=1):\n",
    "    deck_copy = deck[:]  # Создаем копию списка, чтобы не изменять оригинальный\n",
    "    \n",
    "    while True:\n",
    "        if len(deck_copy) < num_cards:  # Перемешиваем колоду, если в ней осталось меньше элементов, чем нужно вернуть\n",
    "            deck_copy = deck[:]\n",
    "            random.shuffle(deck_copy)\n",
    "        \n",
    "        yield deck_copy.pop(0)  # Возвращаем элемент из колоды и удаляем его"
   ]
  },
  {
   "cell_type": "code",
   "execution_count": 3,
   "metadata": {},
   "outputs": [
    {
     "name": "stdout",
     "output_type": "stream",
     "text": [
      "Показываем следующие 10 карточек:\n",
      "Туз пик\n",
      "Король червей\n",
      "Бубновая дама\n",
      "Трефовый валет\n",
      "10 пик\n",
      "Король червей\n",
      "10 пик\n",
      "Трефовый валет\n",
      "Бубновая дама\n",
      "Туз пик\n"
     ]
    }
   ],
   "source": [
    "cards_deck = [\"Туз пик\", \"Король червей\", \"Бубновая дама\", \"Трефовый валет\", \"10 пик\"]\n",
    "generator = deck_generator(cards_deck)\n",
    "print(\"Показываем следующие 10 карточек:\")\n",
    "for _ in range(10):\n",
    "    print(next(generator))"
   ]
  },
  {
   "cell_type": "code",
   "execution_count": 4,
   "metadata": {},
   "outputs": [
    {
     "name": "stdout",
     "output_type": "stream",
     "text": [
      "Показываем следующие 10 карточек:\n",
      "Туз пик\n",
      "Бубновая дама\n",
      "6 пик\n",
      "6 пик\n",
      "Бубновая дама\n"
     ]
    }
   ],
   "source": [
    "cards_deck = [\"Туз пик\", \"Бубновая дама\", \"6 пик\"]\n",
    "generator = deck_generator(cards_deck)\n",
    "print(\"Показываем следующие 10 карточек:\")\n",
    "for _ in range(5):\n",
    "    print(next(generator))"
   ]
  }
 ],
 "metadata": {
  "kernelspec": {
   "display_name": "Python 3",
   "language": "python",
   "name": "python3"
  },
  "language_info": {
   "codemirror_mode": {
    "name": "ipython",
    "version": 3
   },
   "file_extension": ".py",
   "mimetype": "text/x-python",
   "name": "python",
   "nbconvert_exporter": "python",
   "pygments_lexer": "ipython3",
   "version": "3.12.1"
  }
 },
 "nbformat": 4,
 "nbformat_minor": 2
}
