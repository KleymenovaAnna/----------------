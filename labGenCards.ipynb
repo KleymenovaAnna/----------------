{
 "cells": [
  {
   "cell_type": "code",
   "execution_count": 1,
   "metadata": {},
   "outputs": [],
   "source": [
    "from typing import List, Tuple\n",
    "\n",
    "def create_deck(num_cards: int = 36, suits: List[str] = ['Черви', 'Крести', 'Пики', 'Бубны'], values: List[str] = ['2', '3', '4', '5', '6', '7', '8', '9', '10', 'J', 'Q', 'K', 'A']) -> List[Tuple[str, str]]:\n",
    "    if num_cards not in [52, 36, 24]:\n",
    "        raise ValueError(\"Количество карт в колоде должно быть 52, 36, или 24.\")\n",
    "    \n",
    "    deck = []\n",
    "    for suit in suits:\n",
    "        for value in values:\n",
    "            deck.append((value, suit))\n",
    "    \n",
    "    return deck[:num_cards]\n",
    "\n",
    "\n"
   ]
  },
  {
   "cell_type": "code",
   "execution_count": 2,
   "metadata": {},
   "outputs": [
    {
     "name": "stdout",
     "output_type": "stream",
     "text": [
      "[('2', 'Черви'), ('3', 'Черви'), ('4', 'Черви'), ('5', 'Черви'), ('6', 'Черви'), ('7', 'Черви'), ('8', 'Черви'), ('9', 'Черви'), ('10', 'Черви'), ('J', 'Черви'), ('Q', 'Черви'), ('K', 'Черви'), ('A', 'Черви'), ('2', 'Крести'), ('3', 'Крести'), ('4', 'Крести'), ('5', 'Крести'), ('6', 'Крести'), ('7', 'Крести'), ('8', 'Крести'), ('9', 'Крести'), ('10', 'Крести'), ('J', 'Крести'), ('Q', 'Крести'), ('K', 'Крести'), ('A', 'Крести'), ('2', 'Пики'), ('3', 'Пики'), ('4', 'Пики'), ('5', 'Пики'), ('6', 'Пики'), ('7', 'Пики'), ('8', 'Пики'), ('9', 'Пики'), ('10', 'Пики'), ('J', 'Пики')]\n"
     ]
    }
   ],
   "source": [
    "print(create_deck())  # Создать колоду из 36 карт\n"
   ]
  },
  {
   "cell_type": "code",
   "execution_count": 3,
   "metadata": {},
   "outputs": [
    {
     "name": "stdout",
     "output_type": "stream",
     "text": [
      "[('A', 'Черви'), ('1', 'Черви'), ('A', 'Крести'), ('1', 'Крести')]\n"
     ]
    }
   ],
   "source": [
    "print(create_deck(num_cards=24, suits=['Черви', 'Крести'], values=['A', '1']))  # Создать колоду из 24 карт с другими мастями и значениями"
   ]
  }
 ],
 "metadata": {
  "kernelspec": {
   "display_name": "Python 3",
   "language": "python",
   "name": "python3"
  },
  "language_info": {
   "codemirror_mode": {
    "name": "ipython",
    "version": 3
   },
   "file_extension": ".py",
   "mimetype": "text/x-python",
   "name": "python",
   "nbconvert_exporter": "python",
   "pygments_lexer": "ipython3",
   "version": "3.12.1"
  }
 },
 "nbformat": 4,
 "nbformat_minor": 2
}
