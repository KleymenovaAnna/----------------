{
 "cells": [
  {
   "cell_type": "code",
   "execution_count": 1,
   "metadata": {},
   "outputs": [],
   "source": [
    "from typing import List, Tuple, Optional\n",
    "import random\n",
    "\n",
    "def generate_sapper_map(height: int = 9, width: int = 9, mines: int = 10, mine_coords: Optional[List[Tuple[int, int]]] = None, first_move: Optional[Tuple[int, int]] = None) -> List[str]:\n",
    "    if height <= 0 or width <= 0 or mines <= 0:\n",
    "        raise ValueError(\"Высота, ширина и количество мин должны быть положительными числами.\")\n",
    "    \n",
    "    if mines > height * width:\n",
    "        raise ValueError(\"Количество мин не может превышать общее количество ячеек\")\n",
    "    \n",
    "    if mine_coords:\n",
    "        if len(mine_coords) != mines:\n",
    "            raise ValueError(\"Количество предоставленных координат мин не соответствует количеству мин\")\n",
    "    \n",
    "    board = [['0' for _ in range(width)] for _ in range(height)]\n",
    "    \n",
    "    if mine_coords:\n",
    "        for x, y in mine_coords:\n",
    "            board[y][x] = '*'\n",
    "    \n",
    "    else:\n",
    "        placed_mines = 0\n",
    "        while placed_mines < mines:\n",
    "            x = random.randint(0, width - 1)\n",
    "            y = random.randint(0, height - 1)\n",
    "            if board[y][x] != '*':\n",
    "                board[y][x] = '*'\n",
    "                placed_mines += 1\n",
    "    \n",
    "    for y in range(height):\n",
    "        for x in range(width):\n",
    "            if board[y][x] == '*':\n",
    "                continue\n",
    "            count = 0\n",
    "            for dy in range(-1, 2):\n",
    "                for dx in range(-1, 2):\n",
    "                    new_x, new_y = x + dx, y + dy\n",
    "                    if 0 <= new_x < width and 0 <= new_y < height and board[new_y][new_x] == '*':\n",
    "                        count += 1\n",
    "            board[y][x] = str(count)\n",
    "    \n",
    "    if first_move:\n",
    "        x, y = first_move\n",
    "        if board[y][x] == '*':\n",
    "            board[y][x] = '0'\n",
    "    \n",
    "    return [''.join(row) for row in board]\n"
   ]
  },
  {
   "cell_type": "code",
   "execution_count": 2,
   "metadata": {},
   "outputs": [
    {
     "name": "stdout",
     "output_type": "stream",
     "text": [
      "['000000', '000000', '122100', '2**100', '2*3100']\n"
     ]
    }
   ],
   "source": [
    "print(generate_sapper_map(5, 6, 3, [(1, 3), (2, 3), (1, 4)], (0, 0)))"
   ]
  }
 ],
 "metadata": {
  "kernelspec": {
   "display_name": "Python 3",
   "language": "python",
   "name": "python3"
  },
  "language_info": {
   "codemirror_mode": {
    "name": "ipython",
    "version": 3
   },
   "file_extension": ".py",
   "mimetype": "text/x-python",
   "name": "python",
   "nbconvert_exporter": "python",
   "pygments_lexer": "ipython3",
   "version": "3.12.1"
  }
 },
 "nbformat": 4,
 "nbformat_minor": 2
}
