{
 "cells": [
  {
   "cell_type": "code",
   "execution_count": 1,
   "metadata": {},
   "outputs": [],
   "source": [
    "import random"
   ]
  },
  {
   "cell_type": "code",
   "execution_count": 2,
   "metadata": {},
   "outputs": [],
   "source": [
    "a = \"Привет! Меня зовут Анна. Я учусь на первом курсе.\""
   ]
  },
  {
   "cell_type": "code",
   "execution_count": 3,
   "metadata": {},
   "outputs": [
    {
     "name": "stdout",
     "output_type": "stream",
     "text": [
      "['пРИВЕТ!', 'мЕНЯ', 'ЗОВУТ', 'аННА.', 'я', 'УЧУСЬ', 'НА', 'ПЕРВОМ', 'КУРСЕ.']\n"
     ]
    }
   ],
   "source": [
    "print([word.swapcase() for word in a.split()])"
   ]
  },
  {
   "cell_type": "code",
   "execution_count": 4,
   "metadata": {},
   "outputs": [
    {
     "name": "stdout",
     "output_type": "stream",
     "text": [
      "['_______', '____', '_____', '_____', '_', '_____', '__', '______', '______']\n"
     ]
    }
   ],
   "source": [
    "print([''.join('_' for letter in word) for word in a.split()])"
   ]
  },
  {
   "cell_type": "code",
   "execution_count": 5,
   "metadata": {},
   "outputs": [
    {
     "name": "stdout",
     "output_type": "stream",
     "text": [
      "['П_____!', 'М__я', 'з___т', 'А___.', 'ЯЯ', 'у___ь', 'на', 'п____м', 'к____.']\n"
     ]
    }
   ],
   "source": [
    "print([''.join(word[0] + '_'*(len(word)-2)) + word[-1] for word in a.split()])"
   ]
  },
  {
   "cell_type": "code",
   "execution_count": 6,
   "metadata": {},
   "outputs": [
    {
     "name": "stdout",
     "output_type": "stream",
     "text": [
      "['Привет!', '____', 'зовут', 'Анна.', '_', 'учусь', '__', 'первом', 'курсе.']\n"
     ]
    }
   ],
   "source": [
    "print([''.join('_' if len(word) < 5 else letter for letter in word) for word in a.split()])"
   ]
  },
  {
   "cell_type": "code",
   "execution_count": 7,
   "metadata": {},
   "outputs": [
    {
     "name": "stdout",
     "output_type": "stream",
     "text": [
      "['веит!Пр', 'яеМн', 'тозув', 'Анан.', 'Я', 'ьусуч', 'на', 'врепмо', 'рс.еку']\n"
     ]
    }
   ],
   "source": [
    "print( [''.join(random.sample(word, len(word))) for word in a.split()])"
   ]
  },
  {
   "cell_type": "code",
   "execution_count": 8,
   "metadata": {},
   "outputs": [
    {
     "name": "stdout",
     "output_type": "stream",
     "text": [
      "['Привет!', 'МенЯ', 'зовуТ', 'Анна.', 'Я', 'учусЬ', 'нА', 'первоМ', 'курсе.']\n"
     ]
    }
   ],
   "source": [
    "print([word[:-1] + word[-1].upper() for word in a.split()])"
   ]
  },
  {
   "cell_type": "code",
   "execution_count": 9,
   "metadata": {},
   "outputs": [
    {
     "name": "stdout",
     "output_type": "stream",
     "text": [
      "['привет!', 'МЕНЯ', 'зовут', 'АННА.', 'я', 'УЧУСЬ', 'на', 'ПЕРВОМ', 'курсе.']\n"
     ]
    }
   ],
   "source": [
    "print([word.upper() if i % 2 != 0 else word.lower() for i, word in enumerate(a.split())])"
   ]
  },
  {
   "cell_type": "code",
   "execution_count": 10,
   "metadata": {},
   "outputs": [
    {
     "name": "stdout",
     "output_type": "stream",
     "text": [
      "['Привет!', 'Меня', 'зовут', 'Анна.', 'Я', 'учусь', 'на', 'первом', 'курсе.']\n"
     ]
    }
   ],
   "source": [
    "random.shuffle(a.split())\n",
    "shuffle_words = a.split()\n",
    "print(shuffle_words)"
   ]
  },
  {
   "cell_type": "code",
   "execution_count": 11,
   "metadata": {},
   "outputs": [
    {
     "name": "stdout",
     "output_type": "stream",
     "text": [
      "['на', 'Меня', 'Я', 'курсе.', 'учусь', 'зовут', 'Анна.', 'Привет!', 'первом']\n"
     ]
    }
   ],
   "source": [
    "print(random.sample(a.split(), len(a.split())))"
   ]
  }
 ],
 "metadata": {
  "kernelspec": {
   "display_name": "Python 3",
   "language": "python",
   "name": "python3"
  },
  "language_info": {
   "codemirror_mode": {
    "name": "ipython",
    "version": 3
   },
   "file_extension": ".py",
   "mimetype": "text/x-python",
   "name": "python",
   "nbconvert_exporter": "python",
   "pygments_lexer": "ipython3",
   "version": "3.12.1"
  }
 },
 "nbformat": 4,
 "nbformat_minor": 2
}
