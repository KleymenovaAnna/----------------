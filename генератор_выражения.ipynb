{
 "cells": [
  {
   "cell_type": "markdown",
   "metadata": {},
   "source": [
    "# генератор выражения (generator expression) - выражение в круглых скобках которое создает генератор\n",
    " * Функция range() - ленивая последовательность \n",
    " * Функция итератор\n",
    " * Генератор функция\n",
    " * Генератор выражения\n",
    " * Modul itertools"
   ]
  },
  {
   "cell_type": "code",
   "execution_count": 3,
   "metadata": {},
   "outputs": [
    {
     "name": "stdout",
     "output_type": "stream",
     "text": [
      "<class 'range'>\n",
      "5\n",
      "1\n",
      "4\n"
     ]
    }
   ],
   "source": [
    "x = range(5)\n",
    "print(type(x))\n",
    "print(len(x))\n",
    "print(x[1])\n",
    "print(x[-1])\n"
   ]
  },
  {
   "cell_type": "code",
   "execution_count": 5,
   "metadata": {},
   "outputs": [
    {
     "name": "stdout",
     "output_type": "stream",
     "text": [
      "<class 'generator'>\n",
      "hhh\n",
      "eee\n",
      "lll lll ooo\n"
     ]
    }
   ],
   "source": [
    "it = (i*3 for i in 'hello')\n",
    "print(type(it))\n",
    "print(next(it))\n",
    "print(it.__next__())\n",
    "print(*it)\n",
    "\n"
   ]
  }
 ],
 "metadata": {
  "kernelspec": {
   "display_name": "Python 3",
   "language": "python",
   "name": "python3"
  },
  "language_info": {
   "codemirror_mode": {
    "name": "ipython",
    "version": 3
   },
   "file_extension": ".py",
   "mimetype": "text/x-python",
   "name": "python",
   "nbconvert_exporter": "python",
   "pygments_lexer": "ipython3",
   "version": "3.12.1"
  }
 },
 "nbformat": 4,
 "nbformat_minor": 2
}
