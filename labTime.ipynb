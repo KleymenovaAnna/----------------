{
 "cells": [
  {
   "cell_type": "code",
   "execution_count": 1,
   "metadata": {},
   "outputs": [],
   "source": [
    "import time"
   ]
  },
  {
   "cell_type": "code",
   "execution_count": 2,
   "metadata": {},
   "outputs": [],
   "source": [
    "N_COUNT = 10_000_000"
   ]
  },
  {
   "cell_type": "code",
   "execution_count": 3,
   "metadata": {},
   "outputs": [
    {
     "name": "stdout",
     "output_type": "stream",
     "text": [
      "49999995000000\n",
      "1.9960007667541504\n",
      "1.996s\n",
      "1996.001ms\n"
     ]
    }
   ],
   "source": [
    "tm_start=time.time()\n",
    "\n",
    "n_sum=0\n",
    "for i in range(N_COUNT):\n",
    "    n_sum+=i\n",
    "\n",
    "tm_s=time.time() - tm_start\n",
    "print(n_sum)\n",
    "print(f\"{tm_s}\")\n",
    "print(f\"{tm_s:.03f}s\")\n",
    "print(f\"{tm_s*1000:.03f}ms\")"
   ]
  },
  {
   "cell_type": "code",
   "execution_count": 4,
   "metadata": {},
   "outputs": [
    {
     "name": "stdout",
     "output_type": "stream",
     "text": [
      "49999995000000\n",
      "1.3422367572784424\n",
      "1.342s\n",
      "1342.237ms\n"
     ]
    }
   ],
   "source": [
    "tm_start=time.time()\n",
    "\n",
    "n_sum=sum(i for i in range(N_COUNT))\n",
    "\n",
    "\n",
    "tm_s=time.time() - tm_start\n",
    "print(n_sum)\n",
    "print(f\"{tm_s}\")\n",
    "print(f\"{tm_s:.03f}s\")\n",
    "print(f\"{tm_s*1000:.03f}ms\")"
   ]
  },
  {
   "cell_type": "code",
   "execution_count": 6,
   "metadata": {},
   "outputs": [
    {
     "name": "stdout",
     "output_type": "stream",
     "text": [
      "49999995000000\n",
      "0.9521017074584961\n",
      "0.952s\n",
      "952.102ms\n"
     ]
    }
   ],
   "source": [
    "tm_start=time.time()\n",
    "\n",
    "n_sum=sum(range(N_COUNT))\n",
    "\n",
    "\n",
    "tm_s=time.time() - tm_start\n",
    "print(n_sum)\n",
    "print(f\"{tm_s}\")\n",
    "print(f\"{tm_s:.03f}s\")\n",
    "print(f\"{tm_s*1000:.03f}ms\")"
   ]
  },
  {
   "cell_type": "code",
   "execution_count": 7,
   "metadata": {},
   "outputs": [
    {
     "name": "stdout",
     "output_type": "stream",
     "text": [
      "CPU times: total: 2 s\n",
      "Wall time: 2.07 s\n"
     ]
    }
   ],
   "source": [
    "%%time\n",
    "n_sum=0\n",
    "for i in range(N_COUNT):\n",
    "    n_sum+=i"
   ]
  },
  {
   "cell_type": "code",
   "execution_count": 8,
   "metadata": {},
   "outputs": [
    {
     "name": "stdout",
     "output_type": "stream",
     "text": [
      "CPU times: total: 922 ms\n",
      "Wall time: 929 ms\n"
     ]
    }
   ],
   "source": [
    "%%time\n",
    "n_sum=sum(range(N_COUNT))"
   ]
  }
 ],
 "metadata": {
  "kernelspec": {
   "display_name": "Python 3",
   "language": "python",
   "name": "python3"
  },
  "language_info": {
   "codemirror_mode": {
    "name": "ipython",
    "version": 3
   },
   "file_extension": ".py",
   "mimetype": "text/x-python",
   "name": "python",
   "nbconvert_exporter": "python",
   "pygments_lexer": "ipython3",
   "version": "3.12.1"
  }
 },
 "nbformat": 4,
 "nbformat_minor": 2
}
