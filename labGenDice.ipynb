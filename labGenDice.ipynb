{
 "cells": [
  {
   "cell_type": "code",
   "execution_count": 1,
   "metadata": {},
   "outputs": [],
   "source": [
    "import random"
   ]
  },
  {
   "cell_type": "code",
   "execution_count": 2,
   "metadata": {},
   "outputs": [],
   "source": [
    "def dice_generator(sides=6, values=None):\n",
    "    if values is None:\n",
    "        values = list(range(1, sides + 1))\n",
    "    \n",
    "    while True:\n",
    "        yield random.choice(values)"
   ]
  },
  {
   "cell_type": "code",
   "execution_count": 3,
   "metadata": {},
   "outputs": [
    {
     "name": "stdout",
     "output_type": "stream",
     "text": [
      "5\n",
      "1\n",
      "2\n",
      "3\n",
      "4\n"
     ]
    }
   ],
   "source": [
    "# Пример использования функции\n",
    "generator = dice_generator()  # По умолчанию 6 граней и значения 1-6\n",
    "\n",
    "for _ in range(5):  # Покажем первые 5 бросков\n",
    "    print(next(generator))"
   ]
  },
  {
   "cell_type": "code",
   "execution_count": 4,
   "metadata": {},
   "outputs": [
    {
     "name": "stdout",
     "output_type": "stream",
     "text": [
      "\n",
      "генератор с 8 сторонами:\n",
      "80\n",
      "20\n",
      "30\n",
      "80\n",
      "70\n",
      "70\n",
      "10\n",
      "70\n",
      "40\n",
      "10\n"
     ]
    }
   ],
   "source": [
    "# Использование функции с разным количеством граней и значениями\n",
    "custom_generator = dice_generator(8, [10, 20, 30, 40, 50, 60, 70, 80])\n",
    "\n",
    "print(\"\\nгенератор с 8 сторонами:\")\n",
    "for _ in range(10):\n",
    "    print(next(custom_generator))"
   ]
  }
 ],
 "metadata": {
  "kernelspec": {
   "display_name": "Python 3",
   "language": "python",
   "name": "python3"
  },
  "language_info": {
   "codemirror_mode": {
    "name": "ipython",
    "version": 3
   },
   "file_extension": ".py",
   "mimetype": "text/x-python",
   "name": "python",
   "nbconvert_exporter": "python",
   "pygments_lexer": "ipython3",
   "version": "3.12.1"
  }
 },
 "nbformat": 4,
 "nbformat_minor": 2
}
