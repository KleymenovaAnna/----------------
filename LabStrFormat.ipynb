{
 "cells": [
  {
   "cell_type": "markdown",
   "metadata": {},
   "source": [
    "## конкатенация строк"
   ]
  },
  {
   "cell_type": "code",
   "execution_count": 1,
   "metadata": {},
   "outputs": [
    {
     "name": "stdout",
     "output_type": "stream",
     "text": [
      "Привет,Маша19\n"
     ]
    }
   ],
   "source": [
    "print (\"Привет,\" + \"Маша\" + str(19))"
   ]
  },
  {
   "cell_type": "markdown",
   "metadata": {},
   "source": [
    "## строковый метод Format"
   ]
  },
  {
   "cell_type": "code",
   "execution_count": 8,
   "metadata": {},
   "outputs": [
    {
     "name": "stdout",
     "output_type": "stream",
     "text": [
      "Привет, Катя!\n",
      "Привет, Катя тебе уже 19 лет!\n",
      "Привет, Катя, Катя тебе уже 19 лет!\n",
      "pi = 3.14\n",
      "Буквы: e, w, q\n"
     ]
    }
   ],
   "source": [
    "print (\"Привет, {}!\".format(\"Катя\"))\n",
    "print (\"Привет, {} тебе уже {} лет!\".format(\"Катя\", 19))\n",
    "print (\"Привет, {0}, {0} тебе уже {1} лет!\".format(\"Катя\", 19))\n",
    "print (\"{var} = {value}\".format(var='pi', value=3.14))\n",
    "print (\"Буквы: {2}, {1}, {0}\".format (*\"qwerty\"))"
   ]
  },
  {
   "cell_type": "markdown",
   "metadata": {},
   "source": [
    "## %-форматирование"
   ]
  },
  {
   "cell_type": "code",
   "execution_count": 14,
   "metadata": {},
   "outputs": [
    {
     "name": "stdout",
     "output_type": "stream",
     "text": [
      "col_12345\n",
      "Автобус № 35\n",
      "   25\n",
      "25   \n",
      "pi = 3.141500\n",
      "pi = 3.1415\n",
      "pi = 3.142\n"
     ]
    }
   ],
   "source": [
    "print (\"col_%d\" % 12345)\n",
    "print (\"%s № %d\" % (\"Автобус\", 35))\n",
    "print (\"%5d\" % 25)\n",
    "print (\"%-5d\" % 25)\n",
    "print (\"pi = %f\" % 3.1415)\n",
    "print (\"pi = %.4f\" % 3.1415)\n",
    "print (\"pi = %.3f\" % 3.1415)"
   ]
  },
  {
   "cell_type": "markdown",
   "metadata": {},
   "source": [
    "## f-строки (интерполированные строки)"
   ]
  },
  {
   "cell_type": "code",
   "execution_count": 17,
   "metadata": {},
   "outputs": [
    {
     "name": "stdout",
     "output_type": "stream",
     "text": [
      "Ваня\n",
      "a + b = 5\n",
      "3\n"
     ]
    }
   ],
   "source": [
    "name = \"Ваня\"\n",
    "print (f\"{name}\")\n",
    "a = 2\n",
    "b = 3\n",
    "print (f\"a + b = {a + b}\")\n",
    "print (f\"{a if a > b else b}\")"
   ]
  },
  {
   "cell_type": "code",
   "execution_count": 20,
   "metadata": {},
   "outputs": [
    {
     "name": "stdout",
     "output_type": "stream",
     "text": [
      "       Привет       \n",
      "Привет              \n",
      "              Привет\n",
      "_______Привет_______\n",
      "Привет______________\n",
      "______________Привет\n"
     ]
    }
   ],
   "source": [
    "# mini-language\n",
    "print (f\"{'Привет': ^20}\")\n",
    "print (f\"{'Привет': <20}\")\n",
    "print (f\"{'Привет': >20}\")\n",
    "print (f\"{'Привет':_^20}\")\n",
    "print (f\"{'Привет':_<20}\")\n",
    "print (f\"{'Привет':_>20}\")"
   ]
  },
  {
   "cell_type": "code",
   "execution_count": 23,
   "metadata": {},
   "outputs": [
    {
     "name": "stdout",
     "output_type": "stream",
     "text": [
      "11111111\n",
      "0b11111111\n",
      "ff\n",
      "0xff\n",
      "377\n",
      "0o377\n"
     ]
    }
   ],
   "source": [
    "print (f\"{255:b}\")\n",
    "print (f\"{255:#b}\")\n",
    "print (f\"{255:x}\") \n",
    "print (f\"{255:#x}\")\n",
    "print (f\"{255:o}\")\n",
    "print (f\"{255:#o}\")"
   ]
  },
  {
   "cell_type": "code",
   "execution_count": 27,
   "metadata": {},
   "outputs": [
    {
     "name": "stdout",
     "output_type": "stream",
     "text": [
      "0.3333333333333333\n",
      "0.3333333333333333\n",
      "0.333333\n",
      "0.33\n",
      "—\n"
     ]
    }
   ],
   "source": [
    "value = 1 / 3\n",
    "print(value)\n",
    "print(f\"{value}\")\n",
    "print(f\"{value:f}\")\n",
    "print(f\"{value:.2f}\")\n",
    "print(f\"{8212:c}\")"
   ]
  },
  {
   "cell_type": "code",
   "execution_count": 31,
   "metadata": {},
   "outputs": [
    {
     "name": "stdout",
     "output_type": "stream",
     "text": [
      "   15\n",
      "00015\n",
      "___15\n",
      "1_234_567_890\n",
      "1 234 567 890\n"
     ]
    }
   ],
   "source": [
    "print (f\"{15:5}\")\n",
    "print (f\"{15:05}\")\n",
    "print (f\"{15:_=5}\")\n",
    "print (f\"{1234567890:_}\") #_ для визуального чтения\n",
    "print (f\"{1234567890:_}\".replace('_', ' '))"
   ]
  },
  {
   "cell_type": "markdown",
   "metadata": {},
   "source": [
    "## Template-строки"
   ]
  },
  {
   "cell_type": "code",
   "execution_count": 33,
   "metadata": {},
   "outputs": [
    {
     "name": "stdout",
     "output_type": "stream",
     "text": [
      "Меня зовут Ваня. Мне 19 лет.\n"
     ]
    }
   ],
   "source": [
    "from string import Template\n",
    "\n",
    "name = \"Ваня\"\n",
    "age = 19\n",
    "V = Template (\"Меня зовут $name. Мне $age лет.\")\n",
    "print(V.substitute(name=name, age=age))"
   ]
  }
 ],
 "metadata": {
  "kernelspec": {
   "display_name": "Python 3",
   "language": "python",
   "name": "python3"
  },
  "language_info": {
   "codemirror_mode": {
    "name": "ipython",
    "version": 3
   },
   "file_extension": ".py",
   "mimetype": "text/x-python",
   "name": "python",
   "nbconvert_exporter": "python",
   "pygments_lexer": "ipython3",
   "version": "3.12.1"
  }
 },
 "nbformat": 4,
 "nbformat_minor": 2
}
