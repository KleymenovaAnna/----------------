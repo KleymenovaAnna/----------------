{
 "cells": [
  {
   "cell_type": "code",
   "execution_count": 1,
   "metadata": {},
   "outputs": [],
   "source": [
    "from tabulate import tabulate"
   ]
  },
  {
   "cell_type": "code",
   "execution_count": 2,
   "metadata": {},
   "outputs": [
    {
     "name": "stdout",
     "output_type": "stream",
     "text": [
      "-----  --  ---\n",
      "sveta  19  184\n",
      "katya  21  165\n",
      "-----  --  ---\n"
     ]
    }
   ],
   "source": [
    "print(tabulate([('sveta', 19, 184), ('katya',21,165)]))\n"
   ]
  },
  {
   "cell_type": "code",
   "execution_count": 5,
   "metadata": {},
   "outputs": [
    {
     "name": "stdout",
     "output_type": "stream",
     "text": [
      "name      age    height\n",
      "------  -----  --------\n",
      "sveta      19       184\n",
      "katya      21       165\n"
     ]
    }
   ],
   "source": [
    "print(tabulate([('sveta', 19, 184), ('katya',21,165)],\n",
    "                headers = ['name', 'age', 'height']))"
   ]
  },
  {
   "cell_type": "code",
   "execution_count": 3,
   "metadata": {},
   "outputs": [
    {
     "name": "stdout",
     "output_type": "stream",
     "text": [
      "  площадь    периметр    длина\n",
      "---------  ----------  -------\n",
      "       25          20        5\n",
      "        9          12        3\n"
     ]
    }
   ],
   "source": [
    "print(tabulate([('25', 20, 5), ('9',12,3)],\n",
    "                headers = ['площадь', 'периметр', 'длина']))"
   ]
  },
  {
   "cell_type": "code",
   "execution_count": 5,
   "metadata": {},
   "outputs": [
    {
     "name": "stdout",
     "output_type": "stream",
     "text": [
      "+--------+-----------+\n",
      "| Имя    |   Возраст |\n",
      "+========+===========+\n",
      "| Марина |        24 |\n",
      "+--------+-----------+\n",
      "| Илья   |        30 |\n",
      "+--------+-----------+\n",
      "| Кирилл |        27 |\n",
      "+--------+-----------+\n"
     ]
    }
   ],
   "source": [
    "data = [[\"Марина\", 24], [\"Илья\", 30], [\"Кирилл\", 27]]\n",
    "print(tabulate(data, headers=[\"Имя\", \"Возраст\"], tablefmt=\"grid\"))"
   ]
  },
  {
   "cell_type": "code",
   "execution_count": 8,
   "metadata": {},
   "outputs": [
    {
     "name": "stdout",
     "output_type": "stream",
     "text": [
      "| название   |   вес |   цена |\n",
      "|:-----------|------:|-------:|\n",
      "| яблоко     |     5 |    200 |\n",
      "| банан      |     2 |    150 |\n",
      "| груша      |     8 |    125 |\n"
     ]
    }
   ],
   "source": [
    "data = [[\"яблоко\", 5, 200], [\"банан\", 2, 150], [\"груша\", 8, 125]]\n",
    "print(tabulate(data, headers=[\"название\", \"вес\", \"цена\"], tablefmt=\"pipe\"))"
   ]
  },
  {
   "cell_type": "code",
   "execution_count": 12,
   "metadata": {},
   "outputs": [
    {
     "name": "stdout",
     "output_type": "stream",
     "text": [
      "╒═════════╤══════════════╕\n",
      "│ цвет    │   количество │\n",
      "╞═════════╪══════════════╡\n",
      "│ красный │          100 │\n",
      "├─────────┼──────────────┤\n",
      "│ зеленый │          200 │\n",
      "├─────────┼──────────────┤\n",
      "│ белый   │          150 │\n",
      "╘═════════╧══════════════╛\n"
     ]
    }
   ],
   "source": [
    "data = [[\"красный\", 100], [\"зеленый\", 200], [\"белый\", 150]]\n",
    "print(tabulate(data, headers=[\"цвет\", \"количество\"], tablefmt=\"fancy_grid\"))"
   ]
  },
  {
   "cell_type": "code",
   "execution_count": 6,
   "metadata": {},
   "outputs": [
    {
     "name": "stdout",
     "output_type": "stream",
     "text": [
      "Requirement already satisfied: tabulate in c:\\users\\honor\\appdata\\local\\programs\\python\\python312\\lib\\site-packages (0.9.0)\n",
      "Note: you may need to restart the kernel to use updated packages.\n"
     ]
    },
    {
     "name": "stderr",
     "output_type": "stream",
     "text": [
      "\n",
      "[notice] A new release of pip is available: 23.2.1 -> 24.0\n",
      "[notice] To update, run: python.exe -m pip install --upgrade pip\n"
     ]
    }
   ],
   "source": [
    "pip install tabulate"
   ]
  }
 ],
 "metadata": {
  "kernelspec": {
   "display_name": "Python 3",
   "language": "python",
   "name": "python3"
  },
  "language_info": {
   "codemirror_mode": {
    "name": "ipython",
    "version": 3
   },
   "file_extension": ".py",
   "mimetype": "text/x-python",
   "name": "python",
   "nbconvert_exporter": "python",
   "pygments_lexer": "ipython3",
   "version": "3.12.1"
  }
 },
 "nbformat": 4,
 "nbformat_minor": 2
}
