{
 "cells": [
  {
   "cell_type": "code",
   "execution_count": 1,
   "metadata": {},
   "outputs": [],
   "source": [
    "#тестируем файл labArgv.py"
   ]
  },
  {
   "cell_type": "code",
   "execution_count": 2,
   "metadata": {},
   "outputs": [
    {
     "name": "stdout",
     "output_type": "stream",
     "text": [
      "\n",
      "Microsoft Windows [Version 10.0.19045.4170]\n"
     ]
    }
   ],
   "source": [
    "!ver"
   ]
  },
  {
   "cell_type": "code",
   "execution_count": 3,
   "metadata": {},
   "outputs": [
    {
     "name": "stdout",
     "output_type": "stream",
     "text": [
      "Python 3.12.2\n"
     ]
    }
   ],
   "source": [
    "!py -V"
   ]
  },
  {
   "cell_type": "code",
   "execution_count": 4,
   "metadata": {},
   "outputs": [
    {
     "name": "stdout",
     "output_type": "stream",
     "text": [
      "список аргументов:\n",
      "['labArgv.py']\n",
      "['C:\\\\Users\\\\olgas\\\\AppData\\\\Local\\\\Programs\\\\Python\\\\Python312\\\\python.exe', 'labArgv.py']\n"
     ]
    }
   ],
   "source": [
    "!py labArgv.py"
   ]
  },
  {
   "cell_type": "code",
   "execution_count": 5,
   "metadata": {},
   "outputs": [
    {
     "name": "stdout",
     "output_type": "stream",
     "text": [
      "список аргументов:\n",
      "['labArgv.py', '11', '222', '444', '-file=aaa.txt']\n",
      "['C:\\\\Users\\\\olgas\\\\AppData\\\\Local\\\\Programs\\\\Python\\\\Python312\\\\python.exe', 'labArgv.py', '11', '222', '444', '-file=aaa.txt']\n"
     ]
    }
   ],
   "source": [
    "!py labArgv.py 11 222 444 -file=aaa.txt"
   ]
  }
 ],
 "metadata": {
  "kernelspec": {
   "display_name": "Python 3",
   "language": "python",
   "name": "python3"
  },
  "language_info": {
   "codemirror_mode": {
    "name": "ipython",
    "version": 3
   },
   "file_extension": ".py",
   "mimetype": "text/x-python",
   "name": "python",
   "nbconvert_exporter": "python",
   "pygments_lexer": "ipython3",
   "version": "3.12.1"
  }
 },
 "nbformat": 4,
 "nbformat_minor": 2
}
