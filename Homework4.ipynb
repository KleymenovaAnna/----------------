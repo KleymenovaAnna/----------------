{
 "cells": [
  {
   "cell_type": "markdown",
   "metadata": {},
   "source": [
    "LABGENDICE"
   ]
  },
  {
   "cell_type": "code",
   "execution_count": 1,
   "metadata": {},
   "outputs": [],
   "source": [
    "import random\n",
    "\n",
    "def dice_generator(sides=6, values=None):\n",
    "    if values is None:\n",
    "        values = list(range(1, sides+1))\n",
    "    \n",
    "    while True:\n",
    "        result = random.choice(values)\n",
    "        yield result\n"
   ]
  },
  {
   "cell_type": "code",
   "execution_count": 4,
   "metadata": {},
   "outputs": [
    {
     "name": "stdout",
     "output_type": "stream",
     "text": [
      "6\n",
      "2\n",
      "5\n",
      "1\n",
      "4\n"
     ]
    }
   ],
   "source": [
    "dice = dice_generator()\n",
    "for _ in range(5):\n",
    "    print(next(dice))\n"
   ]
  },
  {
   "cell_type": "code",
   "execution_count": 5,
   "metadata": {},
   "outputs": [
    {
     "name": "stdout",
     "output_type": "stream",
     "text": [
      "F\n",
      "G\n",
      "J\n",
      "J\n",
      "I\n"
     ]
    }
   ],
   "source": [
    "dice_10 = dice_generator(sides=10, values=list(\"ABCDEFGHIJ\"))\n",
    "for _ in range(5):\n",
    "    print(next(dice_10))\n"
   ]
  },
  {
   "cell_type": "code",
   "execution_count": 6,
   "metadata": {},
   "outputs": [
    {
     "name": "stdout",
     "output_type": "stream",
     "text": [
      "♠️\n",
      "♠️\n",
      "♣️\n",
      "♥️\n",
      "♣️\n"
     ]
    }
   ],
   "source": [
    "dice_4 = dice_generator(sides=4, values=[\"♠️\", \"♣️\", \"♥️\", \"♦️\"])\n",
    "for _ in range(5):\n",
    "    print(next(dice_4))\n"
   ]
  },
  {
   "cell_type": "markdown",
   "metadata": {},
   "source": [
    "LABGENDECK"
   ]
  },
  {
   "cell_type": "code",
   "execution_count": 7,
   "metadata": {},
   "outputs": [],
   "source": [
    "def deck_generator(deck, num_cards=1):\n",
    "    deck_copy = deck[:]  # Создаем копию списка, чтобы не изменять оригинальный\n",
    "    \n",
    "    while True:\n",
    "        if len(deck_copy) < num_cards:  # Перемешиваем колоду, если в ней осталось меньше элементов, чем нужно вернуть\n",
    "            deck_copy = deck[:]\n",
    "            random.shuffle(deck_copy)\n",
    "        \n",
    "        yield deck_copy.pop(0)  # Возвращаем элемент из колоды и удаляем его"
   ]
  },
  {
   "cell_type": "code",
   "execution_count": 11,
   "metadata": {},
   "outputs": [
    {
     "name": "stdout",
     "output_type": "stream",
     "text": [
      "Показываем следующие 10 карт:\n",
      "Туз пик\n",
      "Король червей\n",
      "Бубновая дама\n",
      "Крестовый валет\n",
      "10 пик\n",
      "Король червей\n",
      "Бубновая дама\n",
      "Туз пик\n",
      "10 пик\n",
      "Крестовый валет\n"
     ]
    }
   ],
   "source": [
    "cards_deck = [\"Туз пик\", \"Король червей\", \"Бубновая дама\", \"Крестовый валет\", \"10 пик\"]\n",
    "generator = deck_generator(cards_deck)\n",
    "print(\"Показываем следующие 10 карт:\")\n",
    "for _ in range(10):\n",
    "    print(next(generator))"
   ]
  },
  {
   "cell_type": "code",
   "execution_count": 12,
   "metadata": {},
   "outputs": [
    {
     "name": "stdout",
     "output_type": "stream",
     "text": [
      "Показываем следующие 10 карт:\n",
      "Туз пик\n",
      "Бубновая дама\n",
      "6 пик\n",
      "Туз пик\n",
      "Бубновая дама\n"
     ]
    }
   ],
   "source": [
    "cards_deck = [\"Туз пик\", \"Бубновая дама\", \"6 пик\"]\n",
    "generator = deck_generator(cards_deck)\n",
    "print(\"Показываем следующие 10 карт:\")\n",
    "for _ in range(5):\n",
    "    print(next(generator))"
   ]
  },
  {
   "cell_type": "markdown",
   "metadata": {},
   "source": [
    "LABGENPASSWORD"
   ]
  },
  {
   "cell_type": "code",
   "execution_count": 13,
   "metadata": {},
   "outputs": [],
   "source": [
    "import random\n",
    "import string\n",
    "\n",
    "def password_generator(num_passwords=None, length=8, use_digits=True, use_lowercase=True, use_uppercase=True, use_special_chars=True, custom_chars=''):\n",
    "    allowed_chars = ''\n",
    "    if use_digits:\n",
    "        allowed_chars += string.digits\n",
    "    if use_lowercase:\n",
    "        allowed_chars += string.ascii_lowercase\n",
    "    if use_uppercase:\n",
    "        allowed_chars += string.ascii_uppercase\n",
    "    if use_special_chars:\n",
    "        allowed_chars += string.punctuation\n",
    "    allowed_chars += custom_chars\n",
    "    \n",
    "    while num_passwords is None or num_passwords > 0:\n",
    "        password = ''.join(random.choice(allowed_chars) for _ in range(length))\n",
    "        yield password\n",
    "        if num_passwords is not None:\n",
    "            num_passwords -= 1\n"
   ]
  },
  {
   "cell_type": "code",
   "execution_count": 23,
   "metadata": {},
   "outputs": [
    {
     "name": "stdout",
     "output_type": "stream",
     "text": [
      "h]eNmC[\"`_\n",
      "4p9<bDnYuk\n",
      "?\"#jk`5z(0\n",
      "pu&EZKA{:(\n",
      "d0*~lyD(7i\n"
     ]
    }
   ],
   "source": [
    "password_gen = password_generator(num_passwords=5, length=10, use_digits=True, use_lowercase=True, use_uppercase=True, use_special_chars=True)\n",
    "for password in password_gen:\n",
    "    print(password)\n"
   ]
  },
  {
   "cell_type": "code",
   "execution_count": 19,
   "metadata": {},
   "outputs": [
    {
     "name": "stdout",
     "output_type": "stream",
     "text": [
      "E3W3QE3E\n",
      "WQE3QQQW\n",
      "EEEQ33Q3\n"
     ]
    }
   ],
   "source": [
    "password_gen = password_generator(num_passwords=3, length=8, use_digits=False, use_lowercase=False, use_uppercase=False, use_special_chars=False, custom_chars='QWE3')\n",
    "for password in password_gen:\n",
    "    print(password)\n"
   ]
  },
  {
   "cell_type": "markdown",
   "metadata": {},
   "source": [
    "LABLTERTOOLS"
   ]
  },
  {
   "cell_type": "code",
   "execution_count": null,
   "metadata": {},
   "outputs": [],
   "source": []
  }
 ],
 "metadata": {
  "language_info": {
   "name": "python"
  }
 },
 "nbformat": 4,
 "nbformat_minor": 2
}
