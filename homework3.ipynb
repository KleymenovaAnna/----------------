{
 "cells": [
  {
   "cell_type": "code",
   "execution_count": 4,
   "metadata": {},
   "outputs": [],
   "source": [
    "from typing import List, Tuple\n",
    "\n",
    "def create_deck(number_of_cards: int = 36, suits: List[str] = [\"Черви\", \"Бубны\", \"Крести\", \"Пики\"], values: List[str] = [\"2\", \"3\", \"4\", \"5\", \"6\", \"7\", \"8\", \"9\", \"10\", \"Валет\", \"Дама\", \"Король\", \"Туз\"]) -> List[Tuple[str, str]]:\n",
    "    if number_of_cards % len(suits) != 0:\n",
    "        raise ValueError(\"Количество карт должно быть кратно количеству мастей\")\n",
    "\n",
    "    deck = [(value, suit) for value in values for suit in suits]\n",
    "    selected_deck = deck[:number_of_cards]\n",
    "    \n",
    "    return selected_deck\n"
   ]
  },
  {
   "cell_type": "code",
   "execution_count": 6,
   "metadata": {},
   "outputs": [
    {
     "name": "stdout",
     "output_type": "stream",
     "text": [
      "[('2', 'Черви'), ('2', 'Бубны'), ('2', 'Крести'), ('2', 'Пики'), ('3', 'Черви'), ('3', 'Бубны'), ('3', 'Крести'), ('3', 'Пики'), ('4', 'Черви'), ('4', 'Бубны'), ('4', 'Крести'), ('4', 'Пики'), ('5', 'Черви'), ('5', 'Бубны'), ('5', 'Крести'), ('5', 'Пики'), ('6', 'Черви'), ('6', 'Бубны'), ('6', 'Крести'), ('6', 'Пики'), ('7', 'Черви'), ('7', 'Бубны'), ('7', 'Крести'), ('7', 'Пики'), ('8', 'Черви'), ('8', 'Бубны'), ('8', 'Крести'), ('8', 'Пики'), ('9', 'Черви'), ('9', 'Бубны'), ('9', 'Крести'), ('9', 'Пики'), ('10', 'Черви'), ('10', 'Бубны'), ('10', 'Крести'), ('10', 'Пики')]\n"
     ]
    }
   ],
   "source": [
    "print(create_deck())  # Создание стандартной колоды в 36 карт\n",
    "\n"
   ]
  },
  {
   "cell_type": "code",
   "execution_count": 7,
   "metadata": {},
   "outputs": [
    {
     "name": "stdout",
     "output_type": "stream",
     "text": [
      "[('2', 'Черви'), ('2', 'Бубны'), ('2', 'Крести'), ('2', 'Пики'), ('3', 'Черви'), ('3', 'Бубны'), ('3', 'Крести'), ('3', 'Пики'), ('4', 'Черви'), ('4', 'Бубны'), ('4', 'Крести'), ('4', 'Пики'), ('5', 'Черви'), ('5', 'Бубны'), ('5', 'Крести'), ('5', 'Пики'), ('6', 'Черви'), ('6', 'Бубны'), ('6', 'Крести'), ('6', 'Пики'), ('7', 'Черви'), ('7', 'Бубны'), ('7', 'Крести'), ('7', 'Пики'), ('8', 'Черви'), ('8', 'Бубны'), ('8', 'Крести'), ('8', 'Пики'), ('9', 'Черви'), ('9', 'Бубны'), ('9', 'Крести'), ('9', 'Пики'), ('10', 'Черви'), ('10', 'Бубны'), ('10', 'Крести'), ('10', 'Пики'), ('Валет', 'Черви'), ('Валет', 'Бубны'), ('Валет', 'Крести'), ('Валет', 'Пики'), ('Дама', 'Черви'), ('Дама', 'Бубны'), ('Дама', 'Крести'), ('Дама', 'Пики'), ('Король', 'Черви'), ('Король', 'Бубны'), ('Король', 'Крести'), ('Король', 'Пики'), ('Туз', 'Черви'), ('Туз', 'Бубны'), ('Туз', 'Крести'), ('Туз', 'Пики')]\n"
     ]
    }
   ],
   "source": [
    "print(create_deck(52))  # Создание колоды в 52 карты"
   ]
  },
  {
   "cell_type": "code",
   "execution_count": 9,
   "metadata": {},
   "outputs": [
    {
     "name": "stdout",
     "output_type": "stream",
     "text": [
      "[('A', 'Черви'), ('A', 'Крести'), ('2', 'Черви'), ('2', 'Крести'), ('3', 'Черви'), ('3', 'Крести')]\n"
     ]
    }
   ],
   "source": [
    "print(create_deck(24, suits=[\"Черви\", \"Крести\"], values=[\"A\", \"2\", \"3\"]))  # Создание колоды в 24 карты с выбранными мастями и значениями\n"
   ]
  },
  {
   "cell_type": "markdown",
   "metadata": {},
   "source": [
    "labGenMapSapper"
   ]
  },
  {
   "cell_type": "code",
   "execution_count": 20,
   "metadata": {},
   "outputs": [],
   "source": [
    "from typing import List, Tuple, Optional\n",
    "import random\n",
    "\n",
    "def create_minesweeper_map(height: int = 9, width: int = 9, num_mines: int = 10, mines_coordinates: Optional[Tuple[Tuple[int, int], ...]] = None, first_move: Optional[Tuple[int, int]] = None) -> List[List[str]]:\n",
    "    if height <= 0 or width <= 0 or num_mines <= 0 or num_mines >= height * width:\n",
    "        raise ValueError(\"Invalid input parameters\")\n",
    "\n",
    "    if not mines_coordinates:\n",
    "        mines_coordinates = set()\n",
    "        while len(mines_coordinates) < num_mines:\n",
    "            mine = (random.randint(0, height-1), random.randint(0, width-1))\n",
    "            if mine != first_move:\n",
    "                mines_coordinates.add(mine)\n",
    "\n",
    "    def count_adjacent_mines(row: int, col: int) -> int:\n",
    "        count = 0\n",
    "        for i in range(row-1, row+2):\n",
    "            for j in range(col-1, col+2):\n",
    "                if 0 <= i < height and 0 <= j < width and (i, j) in mines_coordinates:\n",
    "                    count += 1\n",
    "        return count\n",
    "\n",
    "    map = [['0' for _ in range(width)] for _ in range(height)]\n",
    "\n",
    "    for mine_row, mine_col in mines_coordinates:\n",
    "        map[mine_row][mine_col] = '*'\n",
    "\n",
    "    for row in range(height):\n",
    "        for col in range(width):\n",
    "            if map[row][col] != '*':\n",
    "                surrounding_mines = count_adjacent_mines(row, col)\n",
    "                map[row][col] = str(surrounding_mines)\n",
    "\n",
    "    return map\n",
    "\n"
   ]
  },
  {
   "cell_type": "code",
   "execution_count": 21,
   "metadata": {},
   "outputs": [
    {
     "name": "stdout",
     "output_type": "stream",
     "text": [
      "*212*1000\n",
      "12*321000\n",
      "123*10000\n",
      "1*2110000\n"
     ]
    }
   ],
   "source": [
    "# Пример использования функции\n",
    "example_map = create_minesweeper_map(height=4, width=9, num_mines=5, mines_coordinates=((0,0),(1,2),(2,3),(0,4),(3,1)), first_move=(2,0))\n",
    "for row in example_map:\n",
    "    print(''.join(row))\n"
   ]
  },
  {
   "cell_type": "code",
   "execution_count": 33,
   "metadata": {},
   "outputs": [
    {
     "name": "stdout",
     "output_type": "stream",
     "text": [
      "*1112*100\n",
      "111*32200\n",
      "11212*100\n",
      "1*1011100\n"
     ]
    }
   ],
   "source": [
    "# Пример использования функции\n",
    "example_map = create_minesweeper_map(height=4, width=9, num_mines=2, mines_coordinates=((0,0),(1,3),(2,5),(0,5),(3,1)), first_move=(2,4))\n",
    "for row in example_map:\n",
    "    print(''.join(row))\n"
   ]
  },
  {
   "cell_type": "markdown",
   "metadata": {},
   "source": [
    "labGenMapMaze"
   ]
  },
  {
   "cell_type": "code",
   "execution_count": 67,
   "metadata": {},
   "outputs": [
    {
     "name": "stdout",
     "output_type": "stream",
     "text": [
      "▓▓▓▓▓▓▓~▓▓\n",
      "▓▓  ▓▓  ▓▓\n",
      "▓  ▓     ▓\n",
      "▓     ▓▓ ▓\n",
      "▓  ▓    ▓▓\n",
      "▓   ▓    ▓\n",
      "▓ ▓   ▓  ▓\n",
      "▓▓  ▓    ▓\n",
      "▓▓▓▓▓▓$▓▓▓\n"
     ]
    }
   ],
   "source": [
    "import random\n",
    "\n",
    "def generate_maze(height, width, start=None, end=None):\n",
    "    maze = [['▓' for _ in range(width)] for _ in range(height)]\n",
    "\n",
    "    if start is None:\n",
    "        start = (0, random.randint(1, width-2))\n",
    "    if end is None:\n",
    "        end = (height-1, random.randint(1, width-2))\n",
    "        \n",
    "    maze[start[0]][start[1]] = '~'\n",
    "    maze[end[0]][end[1]] = '$'\n",
    "\n",
    "    for i in range(1, height-1):\n",
    "        for j in range(1, width-1):\n",
    "            if random.random() < 0.7:\n",
    "                maze[i][j] = ' '\n",
    "\n",
    "    return '\\n'.join([''.join(row) for row in maze])\n",
    "\n",
    "# Пример использования функции\n",
    "print(generate_maze(9, 10))  # Генерация лабиринта \n"
   ]
  }
 ],
 "metadata": {
  "language_info": {
   "name": "python"
  }
 },
 "nbformat": 4,
 "nbformat_minor": 2
}
