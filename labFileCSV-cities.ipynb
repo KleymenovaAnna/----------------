{
 "cells": [
  {
   "cell_type": "markdown",
   "metadata": {},
   "source": [
    "CSV+cities.csv"
   ]
  },
  {
   "cell_type": "code",
   "execution_count": 1,
   "metadata": {},
   "outputs": [],
   "source": [
    "import csv"
   ]
  },
  {
   "cell_type": "code",
   "execution_count": 2,
   "metadata": {},
   "outputs": [],
   "source": [
    "file_cities_csv=\"koord_russia.csv\""
   ]
  },
  {
   "cell_type": "code",
   "execution_count": 3,
   "metadata": {},
   "outputs": [
    {
     "name": "stdout",
     "output_type": "stream",
     "text": [
      "['Город', 'Регион', 'Федеральный округ', 'lat', 'lng']\n",
      "['Абаза', 'Хакасия', 'Сибирский', '52,651657', '90,088572']\n",
      "['Абакан', 'Хакасия', 'Сибирский', '53,721152', '91,442387']\n",
      "['Абдулино', 'Оренбургская область', 'Приволжский', '53,677839', '53,647263']\n",
      "['Абинск', 'Краснодарский край', 'Южный', '44,866256', '38,151163']\n"
     ]
    }
   ],
   "source": [
    "with open(file_cities_csv) as f:\n",
    "    reader= csv.reader(f, delimiter = ';')\n",
    "    for n, line in enumerate(reader):\n",
    "        if n >=5:\n",
    "            break\n",
    "        print(line)"
   ]
  },
  {
   "cell_type": "code",
   "execution_count": 4,
   "metadata": {},
   "outputs": [
    {
     "name": "stdout",
     "output_type": "stream",
     "text": [
      "['Город', 'Регион', 'Федеральный округ', 'lat', 'lng']\n",
      "dict_values(['Андреаполь', 'Тверская область', 'Центральный', '56,65079', '32,262023'])\n",
      "dict_values(['Бежецк', 'Тверская область', 'Центральный', '57,78567', '36,693871'])\n",
      "dict_values(['Белый', 'Тверская область', 'Центральный', '55,83385', '32,938805'])\n",
      "dict_values(['Бологое', 'Тверская область', 'Центральный', '57,885626', '34,053776'])\n",
      "dict_values(['Весьегонск', 'Тверская область', 'Центральный', '58,658355', '37,259019'])\n",
      "dict_values(['ВышнийВолочёк', 'Тверская область', 'Центральный', '61,006355', '36,449511'])\n",
      "dict_values(['ЗападнаяДвина', 'Тверская область', 'Центральный', '69,400373', '32,450139'])\n",
      "dict_values(['Зубцов', 'Тверская область', 'Центральный', '56,176143', '34,58256'])\n",
      "dict_values(['Калязин', 'Тверская область', 'Центральный', '57,240412', '37,855078'])\n",
      "dict_values(['Кашин', 'Тверская область', 'Центральный', '57,358381', '37,61344'])\n",
      "dict_values(['Кимры', 'Тверская область', 'Центральный', '56,873338', '37,355678'])\n",
      "dict_values(['Конаково', 'Тверская область', 'Центральный', '56,713217', '36,779309'])\n",
      "dict_values(['КрасныйХолм', 'Тверская область', 'Центральный', '56,010563', '92,852572'])\n",
      "dict_values(['Кувшиново', 'Тверская область', 'Центральный', '57,028957', '34,165877'])\n",
      "dict_values(['Лихославль', 'Тверская область', 'Центральный', '57,122219', '35,466808'])\n",
      "dict_values(['Нелидово', 'Тверская область', 'Центральный', '56,223296', '32,776587'])\n",
      "dict_values(['Осташков', 'Тверская область', 'Центральный', '57,142872', '33,115441'])\n",
      "dict_values(['Ржев', 'Тверская область', 'Центральный', '56,262877', '34,329065'])\n",
      "dict_values(['Старица', 'Тверская область', 'Центральный', '56,514927', '34,933586'])\n",
      "dict_values(['Тверь', 'Тверская область', 'Центральный', '56,859611', '35,911896'])\n",
      "dict_values(['Торжок', 'Тверская область', 'Центральный', '57,041338', '34,96014'])\n",
      "dict_values(['Торопец', 'Тверская область', 'Центральный', '56,501173', '31,635466'])\n",
      "dict_values(['Удомля', 'Тверская область', 'Центральный', '57,876779', '35,00511'])\n"
     ]
    }
   ],
   "source": [
    "temp_header = ''\n",
    "temp_data = []\n",
    "with open(file_cities_csv) as f:\n",
    "    reader = csv.DictReader(f, delimiter=';')\n",
    "    temp_header = reader.fieldnames\n",
    "    for line in reader:\n",
    "        if line['Регион']=='Тверская область':\n",
    "            temp_data.append(line)\n",
    "\n",
    "print(temp_header)\n",
    "for line in temp_data:\n",
    "    print(line.values())"
   ]
  },
  {
   "cell_type": "code",
   "execution_count": 5,
   "metadata": {},
   "outputs": [],
   "source": [
    "import os\n",
    "TEMP_DIR = 'temp'\n",
    "if not os.path.exists(TEMP_DIR):\n",
    "    os.mkdir(TEMP_DIR)"
   ]
  },
  {
   "cell_type": "code",
   "execution_count": 6,
   "metadata": {},
   "outputs": [],
   "source": [
    "with open(os.path.join(TEMP_DIR, 'temp_cities_оренбургская область.csv'), 'w') as f:\n",
    "    writer = csv.DictWriter(f, fieldnames=temp_header, lineterminator='\\n', delimiter=';')\n",
    "    writer.writeheader()\n",
    "    writer.writerows(temp_data)"
   ]
  }
 ],
 "metadata": {
  "kernelspec": {
   "display_name": "Python 3",
   "language": "python",
   "name": "python3"
  },
  "language_info": {
   "codemirror_mode": {
    "name": "ipython",
    "version": 3
   },
   "file_extension": ".py",
   "mimetype": "text/x-python",
   "name": "python",
   "nbconvert_exporter": "python",
   "pygments_lexer": "ipython3",
   "version": "3.12.1"
  }
 },
 "nbformat": 4,
 "nbformat_minor": 2
}
