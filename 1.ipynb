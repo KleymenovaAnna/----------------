{
 "cells": [
  {
   "cell_type": "code",
   "execution_count": null,
   "metadata": {},
   "outputs": [],
   "source": [
    "for i in range(height):\n",
    "    "
   ]
  },
  {
   "cell_type": "markdown",
   "metadata": {},
   "source": [
    "#демонстрация возможностей модуля myPrintShapes.py\n",
    "#import myPrintShapes\n",
    "#from myPrintShapes import*\n"
   ]
  },
  {
   "cell_type": "code",
   "execution_count": null,
   "metadata": {},
   "outputs": [],
   "source": [
    "#демонстрация возможностей модуля myPrintShapes.py\n",
    "#import myPrintShapes\n",
    "#from myPrintShapes import*\n",
    "from myPrintShapes import print_rectange"
   ]
  }
 ],
 "metadata": {
  "language_info": {
   "name": "python"
  }
 },
 "nbformat": 4,
 "nbformat_minor": 2
}
