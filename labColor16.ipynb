{
 "cells": [
  {
   "cell_type": "markdown",
   "metadata": {},
   "source": [
    "#labColor16"
   ]
  },
  {
   "cell_type": "code",
   "execution_count": 8,
   "metadata": {},
   "outputs": [
    {
     "name": "stdout",
     "output_type": "stream",
     "text": [
      "Hello\n",
      "\u001b[31mHello\n",
      "Hello\n",
      "\u001b[0m\n",
      "Hello\n",
      "\u001b[0;32;41mHello\u001b[0m\n",
      "Hello\n"
     ]
    }
   ],
   "source": [
    "print('Hello')\n",
    "print('\\033[31mHello')\n",
    "print('Hello')\n",
    "print('\\033[0m')\n",
    "print('Hello')\n",
    "print('\\033[0;32;41mHello\\033[0m')\n",
    "print('Hello')"
   ]
  },
  {
   "cell_type": "code",
   "execution_count": null,
   "metadata": {},
   "outputs": [],
   "source": [
    "#HW\n",
    "#посмотреть модуль colorama"
   ]
  },
  {
   "cell_type": "code",
   "execution_count": 9,
   "metadata": {},
   "outputs": [
    {
     "name": "stdout",
     "output_type": "stream",
     "text": [
      "Requirement already satisfied: colorama in c:\\users\\honor\\appdata\\roaming\\python\\python312\\site-packages (0.4.6)\n",
      "Note: you may need to restart the kernel to use updated packages.\n"
     ]
    },
    {
     "name": "stderr",
     "output_type": "stream",
     "text": [
      "\n",
      "[notice] A new release of pip is available: 23.2.1 -> 24.0\n",
      "[notice] To update, run: python.exe -m pip install --upgrade pip\n"
     ]
    }
   ],
   "source": [
    "pip install colorama\n"
   ]
  },
  {
   "cell_type": "code",
   "execution_count": 12,
   "metadata": {},
   "outputs": [
    {
     "name": "stdout",
     "output_type": "stream",
     "text": [
      "privet\n",
      "\u001b[22m\u001b[43m\u001b[31mprivet\n",
      "privet\n"
     ]
    }
   ],
   "source": [
    "from colorama import Style, Back, Fore\n",
    "print('privet')\n",
    "print(Style.NORMAL + Back.YELLOW + Fore.RED + 'privet')\n",
    "print('privet')"
   ]
  }
 ],
 "metadata": {
  "kernelspec": {
   "display_name": "Python 3",
   "language": "python",
   "name": "python3"
  },
  "language_info": {
   "codemirror_mode": {
    "name": "ipython",
    "version": 3
   },
   "file_extension": ".py",
   "mimetype": "text/x-python",
   "name": "python",
   "nbconvert_exporter": "python",
   "pygments_lexer": "ipython3",
   "version": "3.12.1"
  }
 },
 "nbformat": 4,
 "nbformat_minor": 2
}
