{
 "cells": [
  {
   "cell_type": "markdown",
   "metadata": {},
   "source": [
    "генератор коллекции - (генератор списка, множества, словаря)"
   ]
  },
  {
   "cell_type": "code",
   "execution_count": 23,
   "metadata": {},
   "outputs": [
    {
     "data": {
      "text/plain": [
       "[1, 2, 3, 4, 5, 6]"
      ]
     },
     "execution_count": 23,
     "metadata": {},
     "output_type": "execute_result"
    }
   ],
   "source": [
    "[i for i in range(1,7)]\n",
    "#  в начале результат "
   ]
  },
  {
   "cell_type": "code",
   "execution_count": 24,
   "metadata": {},
   "outputs": [
    {
     "data": {
      "text/plain": [
       "['1', '4', '9', '16', '25', '36']"
      ]
     },
     "execution_count": 24,
     "metadata": {},
     "output_type": "execute_result"
    }
   ],
   "source": [
    "[str((i**2)) for i in range(1,7)]\n"
   ]
  },
  {
   "cell_type": "code",
   "execution_count": 25,
   "metadata": {},
   "outputs": [
    {
     "data": {
      "text/plain": [
       "{1, 2, 3, 4, 5, 6}"
      ]
     },
     "execution_count": 25,
     "metadata": {},
     "output_type": "execute_result"
    }
   ],
   "source": [
    "{i for i in range(1,7)}\n",
    "#множество"
   ]
  },
  {
   "cell_type": "code",
   "execution_count": 26,
   "metadata": {},
   "outputs": [
    {
     "data": {
      "text/plain": [
       "{1: '1', 2: '4', 3: '9', 4: '16', 5: '25', 6: '36'}"
      ]
     },
     "execution_count": 26,
     "metadata": {},
     "output_type": "execute_result"
    }
   ],
   "source": [
    "#словарь\n",
    "{i: str(i**2) for i in range(1,7)}\n"
   ]
  },
  {
   "cell_type": "code",
   "execution_count": 27,
   "metadata": {},
   "outputs": [
    {
     "data": {
      "text/plain": [
       "{0: 'hhhh', 1: 'eeee', 2: 'llll', 3: 'llll', 4: 'oooo'}"
      ]
     },
     "execution_count": 27,
     "metadata": {},
     "output_type": "execute_result"
    }
   ],
   "source": [
    "{n: i*4 for n,i in enumerate(\"hello\")}"
   ]
  },
  {
   "cell_type": "code",
   "execution_count": 28,
   "metadata": {},
   "outputs": [
    {
     "data": {
      "text/plain": [
       "[0, 5, 10, 15, 20, 25, 30, 35, 40, 45, 50, 55, 60, 65, 70, 75, 80, 85, 90, 95]"
      ]
     },
     "execution_count": 28,
     "metadata": {},
     "output_type": "execute_result"
    }
   ],
   "source": [
    "#было\n",
    "v =[]\n",
    "for i in range(100):\n",
    "    if i%5==0:\n",
    "        v.append(i)\n",
    "v"
   ]
  },
  {
   "cell_type": "code",
   "execution_count": 29,
   "metadata": {},
   "outputs": [
    {
     "data": {
      "text/plain": [
       "[0, 5, 10, 15, 20, 25, 30, 35, 40, 45, 50, 55, 60, 65, 70, 75, 80, 85, 90, 95]"
      ]
     },
     "execution_count": 29,
     "metadata": {},
     "output_type": "execute_result"
    }
   ],
   "source": [
    "#стало\n",
    "\n",
    "[i for i in range(100)if i%5==0]"
   ]
  },
  {
   "cell_type": "code",
   "execution_count": 30,
   "metadata": {},
   "outputs": [
    {
     "data": {
      "text/plain": [
       "[0, 5, 10, 15, 20, 25, 30, 35, 40, 45, 50, 55, 60, 65, 70, 75, 80, 85, 90, 95]"
      ]
     },
     "execution_count": 30,
     "metadata": {},
     "output_type": "execute_result"
    }
   ],
   "source": [
    "list(range(0,100,5))"
   ]
  },
  {
   "cell_type": "code",
   "execution_count": 31,
   "metadata": {},
   "outputs": [
    {
     "data": {
      "text/plain": [
       "['AAAAA', 'BBBBB', 'CC', 'DD', 'eeeee']"
      ]
     },
     "execution_count": 31,
     "metadata": {},
     "output_type": "execute_result"
    }
   ],
   "source": [
    "v =[]\n",
    "for i in \"ABCDe\":\n",
    "    if i in \"ABe\":\n",
    "        v.append(i*5)\n",
    "    else:\n",
    "        v.append(i*2)\n",
    "v"
   ]
  },
  {
   "cell_type": "code",
   "execution_count": 32,
   "metadata": {},
   "outputs": [
    {
     "data": {
      "text/plain": [
       "['AAAAA', 'BBBBB', 'CC', 'DD', 'eeeee']"
      ]
     },
     "execution_count": 32,
     "metadata": {},
     "output_type": "execute_result"
    }
   ],
   "source": [
    "[i*5 if i in \"ABe\" else i*2 for i in\"ABCDe\"]"
   ]
  },
  {
   "cell_type": "code",
   "execution_count": 33,
   "metadata": {},
   "outputs": [
    {
     "data": {
      "text/plain": [
       "[11, 12, 13, 12, 13, 14]"
      ]
     },
     "execution_count": 33,
     "metadata": {},
     "output_type": "execute_result"
    }
   ],
   "source": [
    "v  = []\n",
    "for i in range(1,3):\n",
    "    for j in range(10,13):\n",
    "        v.append(i+j)\n",
    "v"
   ]
  },
  {
   "cell_type": "code",
   "execution_count": 35,
   "metadata": {},
   "outputs": [
    {
     "data": {
      "text/plain": [
       "[(11, 1, 10), (12, 2, 10), (12, 1, 11), (13, 2, 11), (13, 1, 12), (14, 2, 12)]"
      ]
     },
     "execution_count": 35,
     "metadata": {},
     "output_type": "execute_result"
    }
   ],
   "source": [
    "#кортедж\n",
    "[(i+j,i,j) for j in range(10,13) for i in range(1,3)]"
   ]
  },
  {
   "cell_type": "code",
   "execution_count": 37,
   "metadata": {},
   "outputs": [
    {
     "data": {
      "text/plain": [
       "[0, 2, 4, 6, 8, 10, 12, 14, 16, 18]"
      ]
     },
     "execution_count": 37,
     "metadata": {},
     "output_type": "execute_result"
    }
   ],
   "source": [
    "[z for x in range(10)  if (z:=x*2)%2==0]"
   ]
  },
  {
   "cell_type": "code",
   "execution_count": 40,
   "metadata": {},
   "outputs": [
    {
     "data": {
      "text/plain": [
       "(2, 256, 65536)"
      ]
     },
     "execution_count": 40,
     "metadata": {},
     "output_type": "execute_result"
    }
   ],
   "source": [
    "x =1\n",
    "v = (x:=2,x**8,x**16)\n",
    "v"
   ]
  },
  {
   "cell_type": "code",
   "execution_count": 42,
   "metadata": {},
   "outputs": [
    {
     "name": "stdout",
     "output_type": "stream",
     "text": [
      "yes\n"
     ]
    }
   ],
   "source": [
    "if (x := 2*2) and x>=4:\n",
    "    print('yes')\n",
    "\n",
    "# := - оператор walrus(начиная с версии 3.8)"
   ]
  },
  {
   "cell_type": "code",
   "execution_count": 47,
   "metadata": {},
   "outputs": [
    {
     "name": "stdout",
     "output_type": "stream",
     "text": [
      "[[1, 2, 3], [4, 5, 6], [7, 8, 9]]\n",
      "[4, 5, 6]\n",
      "6\n",
      "[[4, 5, 6], [7, 8, 9]]\n"
     ]
    }
   ],
   "source": [
    "m = [[1,2,3],[4,5,6],[7,8,9]]\n",
    "print(m)\n",
    "print(m[1])\n",
    "print(m[1][2])\n",
    "print(m[1:3])"
   ]
  },
  {
   "cell_type": "code",
   "execution_count": 49,
   "metadata": {},
   "outputs": [
    {
     "name": "stdout",
     "output_type": "stream",
     "text": [
      "[[3, 2, 1], [6, 5, 4], [9, 8, 7]]\n",
      "[[9, 8, 7], [6, 5, 4], [3, 2, 1]]\n"
     ]
    }
   ],
   "source": [
    "print([i[::-1] for i in m])\n",
    "print([i[::-1] for i in m[::-1]])\n"
   ]
  },
  {
   "cell_type": "code",
   "execution_count": 53,
   "metadata": {},
   "outputs": [
    {
     "name": "stdout",
     "output_type": "stream",
     "text": [
      "['Съешь', 'еще', 'этих', 'мягкиз', 'французских', 'булок', 'да', 'выпей', 'чаю.']\n",
      "['Съешь(1)', 'еще(2)', 'этих(3)', 'мягкиз(4)', 'французских(5)', 'булок(6)', 'да(7)', 'выпей(8)', 'чаю.(9)']\n",
      "Съешь(1) еще(2) этих(3) мягкиз(4) французских(5) булок(6) да(7) выпей(8) чаю.(9)\n"
     ]
    }
   ],
   "source": [
    "text = 'Съешь еще этих мягких французских булок да выпей чаю.'\n",
    "print(text.split())\n",
    "print([f\"{i}({n})\" for n,i  in enumerate(text.split(), start =1)])\n",
    "print(*[f\"{i}({n})\" for n,i  in enumerate(text.split(), start =1)])\n"
   ]
  },
  {
   "cell_type": "code",
   "execution_count": 1,
   "metadata": {},
   "outputs": [],
   "source": [
    "v = '''Карл у Клары украл рекламу\n",
    "а Клара у карла украла бютжет'''"
   ]
  },
  {
   "cell_type": "code",
   "execution_count": 2,
   "metadata": {},
   "outputs": [
    {
     "name": "stdout",
     "output_type": "stream",
     "text": [
      "Карл у Клары украл рекламу\n",
      "а Клара у карла украла бютжет\n",
      "'Карл у Клары украл рекламу\\nа Клара у карла украла бютжет'\n",
      "['Карл', 'у', 'Клары', 'украл', 'рекламу', 'а', 'Клара', 'у', 'карла', 'украла', 'бютжет']\n",
      "['Карл у Клары украл рекламу', 'а Клара у карла украла бютжет']\n",
      "['К', 'а', 'р', 'л', ' ', 'у', ' ', 'К', 'л', 'а', 'р', 'ы', ' ', 'у', 'к', 'р', 'а', 'л', ' ', 'р', 'е', 'к', 'л', 'а', 'м', 'у', '\\n', 'а', ' ', 'К', 'л', 'а', 'р', 'а', ' ', 'у', ' ', 'к', 'а', 'р', 'л', 'а', ' ', 'у', 'к', 'р', 'а', 'л', 'а', ' ', 'б', 'ю', 'т', 'ж', 'е', 'т']\n"
     ]
    }
   ],
   "source": [
    "print(v)\n",
    "print(repr(v))\n",
    "print(v.split())\n",
    "print(v.splitlines())\n",
    "print(list(v))\n"
   ]
  },
  {
   "cell_type": "code",
   "execution_count": 3,
   "metadata": {},
   "outputs": [
    {
     "name": "stdout",
     "output_type": "stream",
     "text": [
      "['Карл', 'у', 'Клары', 'украл']\n",
      "['Карл', 'Клара', 'Клары', 'а', 'бютжет', 'карла', 'рекламу', 'у', 'у', 'украл', 'украла']\n",
      "['Карл', 'Клара', 'Клары', 'а']\n"
     ]
    }
   ],
   "source": [
    "print(v.split()[:4])\n",
    "print(sorted(v.split()))\n",
    "print(sorted(v.split())[:4])"
   ]
  },
  {
   "cell_type": "code",
   "execution_count": 7,
   "metadata": {},
   "outputs": [
    {
     "name": "stdout",
     "output_type": "stream",
     "text": [
      "['Карл', 'Клара', 'Клары', 'а', 'бютжет', 'карла', 'рекламу', 'у', 'у', 'украл', 'украла']\n",
      "['а', 'бютжет', 'карл', 'карла', 'клара', 'клары', 'рекламу', 'у', 'у', 'украл', 'украла']\n",
      "['а', 'бютжет', 'Карл', 'карла', 'Клара', 'Клары', 'рекламу', 'у', 'у', 'украл', 'украла']\n"
     ]
    }
   ],
   "source": [
    "print(sorted(v.split()))\n",
    "print(sorted(v.lower().split()))\n",
    "print(sorted(v.split(), key=lambda i: str(i).lower()))\n",
    "print(sorted(v.split(), key=str.lower))\n"
   ]
  },
  {
   "cell_type": "code",
   "execution_count": 9,
   "metadata": {},
   "outputs": [
    {
     "name": "stdout",
     "output_type": "stream",
     "text": [
      "['Карл', 'Клара', 'Клары', 'а', 'бютжет', 'карла', 'рекламу', 'у', 'у', 'украл', 'украла']\n",
      "['украла', 'украл', 'у', 'у', 'рекламу', 'карла', 'бютжет', 'а', 'Клары', 'Клара', 'Карл']\n",
      "['украла', 'украл', 'у', 'у', 'рекламу', 'карла', 'бютжет', 'а', 'Клары', 'Клара', 'Карл']\n",
      "<list_reverseiterator object at 0x000001EFB58BA7D0>\n",
      "['бютжет', 'украла', 'карла', 'у', 'Клара', 'а', 'рекламу', 'украл', 'Клары', 'у', 'Карл']\n"
     ]
    }
   ],
   "source": [
    "print(sorted(v.split()))\n",
    "print(sorted(v.split())[::-1])\n",
    "print (sorted(v.split(), reverse=True))\n",
    "print(reversed(v.split()))\n",
    "print(list(reversed(v.split())))"
   ]
  },
  {
   "cell_type": "code",
   "execution_count": 10,
   "metadata": {},
   "outputs": [
    {
     "name": "stdout",
     "output_type": "stream",
     "text": [
      "['Ка__', 'у', 'Кл___', 'ук___', 'ре_____', 'а', 'Кл___', 'у', 'ка___', 'ук____', 'бю____']\n"
     ]
    }
   ],
   "source": [
    "print([i[:2] + '_' * len(i[2:]) for i in v.split()])"
   ]
  },
  {
   "cell_type": "code",
   "execution_count": 13,
   "metadata": {},
   "outputs": [
    {
     "name": "stdout",
     "output_type": "stream",
     "text": [
      "He___\n",
      "['Ка__', 'у', 'Кл___', 'ук___', 'ре_____', 'а', 'Кл___', 'у', 'ка___', 'ук____', 'бю____']\n"
     ]
    }
   ],
   "source": [
    "f = lambda i: i[:2] + '_' * len(i[2:])\n",
    "print (f('Hello'))\n",
    "print([f(i) for i in v.split()])"
   ]
  },
  {
   "cell_type": "code",
   "execution_count": 17,
   "metadata": {},
   "outputs": [
    {
     "name": "stdout",
     "output_type": "stream",
     "text": [
      "He___\n",
      "['Ка__', 'у', 'Кл___', 'ук___', 'ре_____', 'а', 'Кл___', 'у', 'ка___', 'ук____', 'бю____']\n",
      "['Карл', 'у', 'Клар_', 'укра_', 'рекл___', 'а', 'Клар_', 'у', 'карл_', 'укра__', 'бютж__']\n",
      "Карл у Клар_ укра_ рекл___ а Клар_ у карл_ укра__ бютж__\n",
      "Карл у Клар_ укра_ рекл___ а Клар_ у карл_ укра__ бютж__\n",
      "Карл у Клар_ укра_ рекл___ а Клар_ у карл_ укра__ бютж__\n"
     ]
    }
   ],
   "source": [
    "f = lambda i, n = 2: i[:n] + '_' * len(i[n:])\n",
    "print (f('Hello'))\n",
    "print([f(i) for i in v.split()])\n",
    "print([f(i, 4) for i in v.split()])\n",
    "print(*[f(i, 4) for i in v.split()])\n",
    "print(' '.join([f(i, 4) for i in v.split()]))\n",
    "print(' '.join(f(i, 4) for i in v.split()))"
   ]
  },
  {
   "cell_type": "code",
   "execution_count": 21,
   "metadata": {},
   "outputs": [
    {
     "name": "stdout",
     "output_type": "stream",
     "text": [
      "[['Карл', 'у', 'Клары', 'украл', 'рекламу'], ['а', 'Клара', 'у', 'карла', 'украла', 'бютжет']]\n"
     ]
    }
   ],
   "source": [
    "f_line = lambda line: [i for i in line.split()]\n",
    "print([f_line(i) for i in v.splitlines()])"
   ]
  }
 ],
 "metadata": {
  "kernelspec": {
   "display_name": "Python 3",
   "language": "python",
   "name": "python3"
  },
  "language_info": {
   "codemirror_mode": {
    "name": "ipython",
    "version": 3
   },
   "file_extension": ".py",
   "mimetype": "text/x-python",
   "name": "python",
   "nbconvert_exporter": "python",
   "pygments_lexer": "ipython3",
   "version": "3.12.1"
  }
 },
 "nbformat": 4,
 "nbformat_minor": 2
}
