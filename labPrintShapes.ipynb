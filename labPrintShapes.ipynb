{
 "cells": [
  {
   "cell_type": "code",
   "execution_count": 1,
   "metadata": {},
   "outputs": [
    {
     "name": "stdout",
     "output_type": "stream",
     "text": [
      "********************\n",
      "********************\n",
      "********************\n",
      "********************\n",
      "********************\n"
     ]
    }
   ],
   "source": [
    "w = 20\n",
    "h = 5\n",
    "s = '*'\n",
    "\n",
    "for r in range (h):\n",
    "    print (s * w)"
   ]
  },
  {
   "cell_type": "code",
   "execution_count": 2,
   "metadata": {},
   "outputs": [
    {
     "name": "stdout",
     "output_type": "stream",
     "text": [
      "0 ********************\n",
      "1 *                  *\n",
      "2 *                  *\n",
      "3 *                  *\n",
      "4 ********************\n"
     ]
    }
   ],
   "source": [
    "h = 5\n",
    "w = 20\n",
    "s = '*'\n",
    "f = False\n",
    "\n",
    "for r in range (h):\n",
    "    if r == 0 or r == h - 1 or f:\n",
    "        print (r, s * w)\n",
    "    else:\n",
    "        print(r, s + ' '* (w - 2) + s )\n"
   ]
  },
  {
   "cell_type": "code",
   "execution_count": 3,
   "metadata": {},
   "outputs": [],
   "source": [
    "def print_rectange(width: int, height: int, simbol: str = '*', is_fill:  bool = True):\n",
    "    \"\"\"Нарисовать прямоугольник в консоли.\n",
    "    Параметры:\"\"\"\n",
    "    for r in range (height):\n",
    "        if r == 0 or r == height - 1 or is_fill:\n",
    "            print ( simbol * width)\n",
    "        else:\n",
    "            print(simbol + ' '* (width - 2) + simbol )"
   ]
  },
  {
   "cell_type": "code",
   "execution_count": 4,
   "metadata": {},
   "outputs": [
    {
     "name": "stdout",
     "output_type": "stream",
     "text": [
      "********************\n",
      "********************\n",
      "********************\n",
      "********************\n",
      "********************\n"
     ]
    }
   ],
   "source": [
    "print_rectange(20,5)"
   ]
  },
  {
   "cell_type": "code",
   "execution_count": 5,
   "metadata": {},
   "outputs": [
    {
     "name": "stdout",
     "output_type": "stream",
     "text": [
      "      *\n",
      "     ***\n",
      "    *****\n",
      "   *******\n",
      "    *****\n",
      "     ***\n",
      "      *\n"
     ]
    }
   ],
   "source": [
    "h = 7\n",
    "s = '*'\n",
    "\n",
    "for i in range(1, h+1):\n",
    "    if i <= h // 2 + 1:\n",
    "        print(' ' * (h - i) + s * (2*i - 1))\n",
    "    else:\n",
    "        print(' ' * (i - 1) + s * (2*(h - i) + 1))\n",
    "\n"
   ]
  },
  {
   "cell_type": "code",
   "execution_count": 6,
   "metadata": {},
   "outputs": [
    {
     "name": "stdout",
     "output_type": "stream",
     "text": [
      "                   *                    \n",
      "                 ***                  \n",
      "               *****                \n",
      "             *******              \n",
      "           *********            \n",
      "         ***********          \n"
     ]
    }
   ],
   "source": [
    "h = 6\n",
    "w = 1\n",
    "s = '*'\n",
    "c = 40\n",
    "for r in range(h):\n",
    "    print((s * w).center(c, ' '))\n",
    "    w += 2\n",
    "    c -= 2\n",
    "    \n"
   ]
  },
  {
   "cell_type": "code",
   "execution_count": 7,
   "metadata": {},
   "outputs": [
    {
     "name": "stdout",
     "output_type": "stream",
     "text": [
      "*\n",
      "***\n",
      "*****\n",
      "*******\n",
      "*********\n",
      "***********\n"
     ]
    }
   ],
   "source": [
    "h = 6\n",
    "w = 1\n",
    "s = '*'\n",
    "for r in range(h):\n",
    "    print((s * w))\n",
    "    w += 2\n"
   ]
  },
  {
   "cell_type": "code",
   "execution_count": 8,
   "metadata": {},
   "outputs": [
    {
     "name": "stdout",
     "output_type": "stream",
     "text": [
      "*******************\n",
      "*****************\n",
      "***************\n",
      "*************\n",
      "***********\n",
      "*********\n",
      "*******\n",
      "*****\n",
      "***\n",
      "*\n"
     ]
    }
   ],
   "source": [
    "h = 10\n",
    "w = 19\n",
    "s = '*'\n",
    "for r in range(h):\n",
    "    print((s * w))\n",
    "    w -= 2\n"
   ]
  },
  {
   "cell_type": "code",
   "execution_count": 9,
   "metadata": {},
   "outputs": [
    {
     "name": "stdout",
     "output_type": "stream",
     "text": [
      "*******************\n",
      "  *****************  \n",
      "    ***************    \n",
      "      *************      \n",
      "        ***********        \n",
      "          *********          \n",
      "            *******            \n",
      "              *****              \n",
      "                ***                \n",
      "                  *                  \n"
     ]
    }
   ],
   "source": [
    "h = 10\n",
    "w = 19\n",
    "s = '*'\n",
    "c = 19\n",
    "for r in range(h):\n",
    "    print((s * w).center(c, ' '))\n",
    "    w -= 2\n",
    "    c += 2"
   ]
  },
  {
   "cell_type": "code",
   "execution_count": 10,
   "metadata": {},
   "outputs": [
    {
     "name": "stdout",
     "output_type": "stream",
     "text": [
      "*************\n",
      "*************\n",
      "****** ******\n",
      "*****   *****\n",
      "****     ****\n",
      "***       ***\n",
      "**         **\n",
      "***       ***\n",
      "****     ****\n",
      "*****   *****\n",
      "****** ******\n",
      "*************\n",
      "*************\n"
     ]
    }
   ],
   "source": [
    "h = 6\n",
    "w = 13\n",
    "s = '*'\n",
    "delta = 1\n",
    "\n",
    "for r in range(h):\n",
    "    if r == 0  or r == 1:\n",
    "        print((s * w))\n",
    "    else:\n",
    "        print((' ' * delta).center(w, '*'))\n",
    "        delta += 2\n",
    "for r in range(h + 1):\n",
    "    if r == h - 1 or r == h:\n",
    "        print(s * w)\n",
    "    else:\n",
    "        print((' ' * delta).center(w, '*'))\n",
    "        delta -= 2"
   ]
  },
  {
   "cell_type": "code",
   "execution_count": 11,
   "metadata": {},
   "outputs": [
    {
     "name": "stdout",
     "output_type": "stream",
     "text": [
      "                     4444444                      \n",
      "                      33333                       \n",
      "                       222                        \n",
      "                        1                         \n",
      "                        1                         \n",
      "                       222                        \n",
      "                      33333                       \n",
      "                     4444444                      \n"
     ]
    }
   ],
   "source": [
    "h = 4\n",
    "c = 50\n",
    "s = h\n",
    "\n",
    "w = h * 2 - 1\n",
    "for r in range(h):\n",
    "    print((str(s) * w).center(c, ' '))\n",
    "    w -= 2\n",
    "    s -= 1\n",
    "\n",
    "for r in range(h):\n",
    "    w += 2\n",
    "    s += 1\n",
    "    print((str(s) * w).center(c, ' '))\n"
   ]
  },
  {
   "cell_type": "code",
   "execution_count": 12,
   "metadata": {},
   "outputs": [
    {
     "name": "stdout",
     "output_type": "stream",
     "text": [
      "           \\      /           \n",
      "            \\    /            \n",
      "             \\  /             \n",
      "              \\/              \n",
      "              /\\              \n",
      "             /  \\             \n",
      "            /    \\            \n",
      "           /      \\           \n"
     ]
    }
   ],
   "source": [
    "h = 4\n",
    "w = h * 2 - 2\n",
    "c = 30\n",
    "\n",
    "for r in range(h):\n",
    "    print(('\\\\' + ' ' * w + '/').center(c, ' '))\n",
    "    w -= 2\n",
    "w = 0\n",
    "for r in range(h):\n",
    "    print(('/' + ' ' * w + '\\\\').center(c, ' '))\n",
    "    w += 2"
   ]
  },
  {
   "cell_type": "code",
   "execution_count": 13,
   "metadata": {},
   "outputs": [
    {
     "name": "stdout",
     "output_type": "stream",
     "text": [
      "********************\n",
      "                   *\n",
      "********************\n",
      "*                   \n",
      "********************\n",
      "                   *\n",
      "********************\n",
      "*                   \n"
     ]
    }
   ],
   "source": [
    "h = 8\n",
    "w = 20\n",
    "s = '*'\n",
    "count = 0\n",
    "for r in range(h):\n",
    "    if r % 2 == 0:\n",
    "        print((s * w))\n",
    "    else:\n",
    "        if count % 2 == 0:\n",
    "            print(' '* (w - 1) + s)\n",
    "        else:\n",
    "            print(s + ' '* (w - 1))\n",
    "        count += 1"
   ]
  },
  {
   "cell_type": "code",
   "execution_count": 14,
   "metadata": {},
   "outputs": [
    {
     "name": "stdout",
     "output_type": "stream",
     "text": [
      "********************\n",
      "*                   \n",
      "********************\n",
      "                   *\n",
      "********************\n",
      "*                   \n",
      "********************\n",
      "                   *\n"
     ]
    }
   ],
   "source": [
    "h = 8\n",
    "w = 20\n",
    "s = '*'\n",
    "count = 0\n",
    "for r in range(h):\n",
    "    if r % 2 == 0:\n",
    "        print((s * w))\n",
    "    else:\n",
    "        if count % 2 == 0:\n",
    "            print(s + ' '* (w - 1))\n",
    "        else:\n",
    "            print(' '* (w - 1) + s)\n",
    "        count += 1"
   ]
  },
  {
   "cell_type": "code",
   "execution_count": 15,
   "metadata": {},
   "outputs": [
    {
     "name": "stdout",
     "output_type": "stream",
     "text": [
      "* *** *** \n",
      "* * * * * \n",
      "* * * * * \n",
      "* * * * * \n",
      "* * * * * \n",
      "* * * * * \n",
      "* * * * * \n",
      "* * * * * \n",
      "* * * * * \n",
      "*** *** **\n"
     ]
    }
   ],
   "source": [
    "h = 10\n",
    "w = 10\n",
    "s = '*'\n",
    "for r in range(h - 1):\n",
    "    if r == 0:\n",
    "        print(s + ' ' + (s * 3 + ' ')* int((w - 2) / 4) + s * int((w - 2)% 4))\n",
    "    if r == h - 2:\n",
    "        print((s * 3 + ' ')* int(w / 4) + s * int(w % 4))\n",
    "    else:\n",
    "        if w % 2 == 0:\n",
    "            print((s + ' ') * int(w / 2))\n",
    "        else:\n",
    "            print((s + ' ') * int(w // 2) + s)"
   ]
  }
 ],
 "metadata": {
  "kernelspec": {
   "display_name": "Python 3",
   "language": "python",
   "name": "python3"
  },
  "language_info": {
   "codemirror_mode": {
    "name": "ipython",
    "version": 3
   },
   "file_extension": ".py",
   "mimetype": "text/x-python",
   "name": "python",
   "nbconvert_exporter": "python",
   "pygments_lexer": "ipython3",
   "version": "3.12.1"
  }
 },
 "nbformat": 4,
 "nbformat_minor": 2
}
